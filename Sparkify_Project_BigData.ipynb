{
 "cells": [
  {
   "cell_type": "markdown",
   "id": "rolled-pharmacy",
   "metadata": {},
   "source": [
    "## Churn Prediction with Complete Dataset(12GB)\n",
    "In this notebook we will upload the complete datalogs(12GB) from S3 and based on our analysis with shorter dataset in Sparkify_Project.ipynb, we will replicate all the below steps on the complete data.\n",
    "1. Data Understanding and Data Cleaning\n",
    "2. Exploratory Data Analysis\n",
    "3. Feature Engineering\n",
    "4. Modelling  & Evaluation\n",
    "5. Results and Summary"
   ]
  },
  {
   "cell_type": "code",
   "execution_count": 86,
   "id": "local-handling",
   "metadata": {},
   "outputs": [
    {
     "data": {
      "application/vnd.jupyter.widget-view+json": {
       "model_id": "4a94faafb2df479499be33575001d1ee",
       "version_major": 2,
       "version_minor": 0
      },
      "text/plain": [
       "VBox()"
      ]
     },
     "metadata": {},
     "output_type": "display_data"
    },
    {
     "data": {
      "application/vnd.jupyter.widget-view+json": {
       "model_id": "",
       "version_major": 2,
       "version_minor": 0
      },
      "text/plain": [
       "FloatProgress(value=0.0, bar_style='info', description='Progress:', layout=Layout(height='25px', width='50%'),…"
      ]
     },
     "metadata": {},
     "output_type": "display_data"
    }
   ],
   "source": [
    "# import libraries\n",
    "from pyspark.sql import functions as F\n",
    "from pyspark.sql.functions import avg, col, concat, desc, explode, lit, split, udf, countDistinct, mean, to_date\n",
    "from pyspark.sql.functions import sum,round\n",
    "from pyspark.sql.functions import min\n",
    "from pyspark.sql.functions import max\n",
    "from pyspark.sql.functions import count\n",
    "from pyspark.sql.functions import isnan, when, count, col\n",
    "from pyspark.sql.functions import unix_timestamp\n",
    "from pyspark.sql.functions import udf\n",
    "import re\n",
    "from pyspark.sql.window import Window\n",
    "from pyspark.sql.types import IntegerType, DoubleType\n",
    "import datetime\n",
    "from pyspark.ml import Pipeline\n",
    "from pyspark.ml.feature import StandardScaler\n",
    "from pyspark.ml.tuning import CrossValidator, ParamGridBuilder\n",
    "from pyspark.ml.feature import VectorAssembler\n",
    "from pyspark.ml.evaluation import BinaryClassificationEvaluator, MulticlassClassificationEvaluator, Evaluator\n",
    "from pyspark.ml.classification import LogisticRegression, RandomForestClassifier, GBTClassifier\n",
    "from pyspark.mllib.evaluation import MulticlassMetrics\n",
    "import numpy as np"
   ]
  },
  {
   "cell_type": "code",
   "execution_count": 3,
   "id": "initial-promotion",
   "metadata": {},
   "outputs": [
    {
     "data": {
      "application/vnd.jupyter.widget-view+json": {
       "model_id": "611c0460448b4a20b7e0c17bb77aa2fc",
       "version_major": 2,
       "version_minor": 0
      },
      "text/plain": [
       "VBox()"
      ]
     },
     "metadata": {},
     "output_type": "display_data"
    },
    {
     "data": {
      "application/vnd.jupyter.widget-view+json": {
       "model_id": "",
       "version_major": 2,
       "version_minor": 0
      },
      "text/plain": [
       "FloatProgress(value=0.0, bar_style='info', description='Progress:', layout=Layout(height='25px', width='50%'),…"
      ]
     },
     "metadata": {},
     "output_type": "display_data"
    }
   ],
   "source": [
    "# import libraries\n",
    "import numpy as np\n",
    "#import pandas as pd\n",
    "#import matplotlib.pyplot as plt\n",
    "#import seaborn as sns"
   ]
  },
  {
   "cell_type": "markdown",
   "id": "representative-primary",
   "metadata": {},
   "source": [
    "**1. Data Understanding and Data Cleaning :**"
   ]
  },
  {
   "cell_type": "code",
   "execution_count": 66,
   "id": "imported-burner",
   "metadata": {},
   "outputs": [
    {
     "data": {
      "application/vnd.jupyter.widget-view+json": {
       "model_id": "9e5a14588f6b410ab7f66d01280793eb",
       "version_major": 2,
       "version_minor": 0
      },
      "text/plain": [
       "VBox()"
      ]
     },
     "metadata": {},
     "output_type": "display_data"
    },
    {
     "data": {
      "application/vnd.jupyter.widget-view+json": {
       "model_id": "",
       "version_major": 2,
       "version_minor": 0
      },
      "text/plain": [
       "FloatProgress(value=0.0, bar_style='info', description='Progress:', layout=Layout(height='25px', width='50%'),…"
      ]
     },
     "metadata": {},
     "output_type": "display_data"
    },
    {
     "name": "stdout",
     "output_type": "stream",
     "text": [
      "Row(artist='Popol Vuh', auth='Logged In', firstName='Shlok', gender='M', itemInSession=278, lastName='Johnson', length=524.32934, level='paid', location='Dallas-Fort Worth-Arlington, TX', method='PUT', page='NextSong', registration=1533734541000, sessionId=22683, song='Ich mache einen Spiegel - Dream Part 4', status=200, ts=1538352001000, userAgent='\"Mozilla/5.0 (Windows NT 6.1; WOW64) AppleWebKit/537.36 (KHTML, like Gecko) Chrome/36.0.1985.143 Safari/537.36\"', userId='1749042')"
     ]
    }
   ],
   "source": [
    "# Starter code\n",
    "from pyspark.sql import SparkSession\n",
    "\n",
    "# Create spark session\n",
    "spark = SparkSession \\\n",
    "    .builder \\\n",
    "    .appName(\"Sparkify\") \\\n",
    "    .getOrCreate()\n",
    "\n",
    "# Read in full sparkify dataset\n",
    "event_data = \"s3n://udacity-dsnd/sparkify/sparkify_event_data.json\"\n",
    "df = spark.read.json(event_data)\n",
    "df.head()"
   ]
  },
  {
   "cell_type": "code",
   "execution_count": 67,
   "id": "universal-standing",
   "metadata": {},
   "outputs": [
    {
     "data": {
      "application/vnd.jupyter.widget-view+json": {
       "model_id": "619fa41f35a24a0d81aa0dfb25187b44",
       "version_major": 2,
       "version_minor": 0
      },
      "text/plain": [
       "VBox()"
      ]
     },
     "metadata": {},
     "output_type": "display_data"
    },
    {
     "data": {
      "application/vnd.jupyter.widget-view+json": {
       "model_id": "",
       "version_major": 2,
       "version_minor": 0
      },
      "text/plain": [
       "FloatProgress(value=0.0, bar_style='info', description='Progress:', layout=Layout(height='25px', width='50%'),…"
      ]
     },
     "metadata": {},
     "output_type": "display_data"
    },
    {
     "name": "stdout",
     "output_type": "stream",
     "text": [
      "Shape of dataframe :  (26259199, 18)"
     ]
    }
   ],
   "source": [
    "# Shape of dataframe\n",
    "print(\"Shape of dataframe : \",(df.count(), len(df.columns)))"
   ]
  },
  {
   "cell_type": "code",
   "execution_count": 87,
   "id": "charged-friendly",
   "metadata": {},
   "outputs": [
    {
     "data": {
      "application/vnd.jupyter.widget-view+json": {
       "model_id": "8974f8366d0e487bb3474d829b392ee8",
       "version_major": 2,
       "version_minor": 0
      },
      "text/plain": [
       "VBox()"
      ]
     },
     "metadata": {},
     "output_type": "display_data"
    },
    {
     "data": {
      "application/vnd.jupyter.widget-view+json": {
       "model_id": "",
       "version_major": 2,
       "version_minor": 0
      },
      "text/plain": [
       "FloatProgress(value=0.0, bar_style='info', description='Progress:', layout=Layout(height='25px', width='50%'),…"
      ]
     },
     "metadata": {},
     "output_type": "display_data"
    },
    {
     "name": "stdout",
     "output_type": "stream",
     "text": [
      "root\n",
      " |-- artist: string (nullable = true)\n",
      " |-- auth: string (nullable = true)\n",
      " |-- firstName: string (nullable = true)\n",
      " |-- gender: string (nullable = true)\n",
      " |-- itemInSession: long (nullable = true)\n",
      " |-- lastName: string (nullable = true)\n",
      " |-- length: double (nullable = true)\n",
      " |-- level: string (nullable = true)\n",
      " |-- location: string (nullable = true)\n",
      " |-- method: string (nullable = true)\n",
      " |-- page: string (nullable = true)\n",
      " |-- registration: long (nullable = true)\n",
      " |-- sessionId: long (nullable = true)\n",
      " |-- song: string (nullable = true)\n",
      " |-- status: long (nullable = true)\n",
      " |-- ts: long (nullable = true)\n",
      " |-- userAgent: string (nullable = true)\n",
      " |-- userId: string (nullable = true)"
     ]
    }
   ],
   "source": [
    "# Schema of dataframe\n",
    "df.printSchema()"
   ]
  },
  {
   "cell_type": "code",
   "execution_count": 69,
   "id": "spatial-mention",
   "metadata": {},
   "outputs": [
    {
     "data": {
      "application/vnd.jupyter.widget-view+json": {
       "model_id": "1e37242270184c37801b493d351cb2b5",
       "version_major": 2,
       "version_minor": 0
      },
      "text/plain": [
       "VBox()"
      ]
     },
     "metadata": {},
     "output_type": "display_data"
    },
    {
     "data": {
      "application/vnd.jupyter.widget-view+json": {
       "model_id": "",
       "version_major": 2,
       "version_minor": 0
      },
      "text/plain": [
       "FloatProgress(value=0.0, bar_style='info', description='Progress:', layout=Layout(height='25px', width='50%'),…"
      ]
     },
     "metadata": {},
     "output_type": "display_data"
    },
    {
     "name": "stdout",
     "output_type": "stream",
     "text": [
      "Dataframe total row count:  26259199\n",
      "Distinct rows count:  26259199"
     ]
    }
   ],
   "source": [
    "# Exploring duplicate rows\n",
    "\n",
    "# Total number of rows in Dataframe\n",
    "print(\"Dataframe total row count: \",df.count())\n",
    "\n",
    "# Total distinct number of rows\n",
    "print(\"Distinct rows count: \",df.dropDuplicates().count())"
   ]
  },
  {
   "cell_type": "markdown",
   "id": "experimental-elite",
   "metadata": {},
   "source": [
    "Observation : There are no duplicate rows."
   ]
  },
  {
   "cell_type": "code",
   "execution_count": 70,
   "id": "chubby-singing",
   "metadata": {},
   "outputs": [
    {
     "data": {
      "application/vnd.jupyter.widget-view+json": {
       "model_id": "812732da47694ee9a9ea826f2efa054a",
       "version_major": 2,
       "version_minor": 0
      },
      "text/plain": [
       "VBox()"
      ]
     },
     "metadata": {},
     "output_type": "display_data"
    },
    {
     "data": {
      "application/vnd.jupyter.widget-view+json": {
       "model_id": "",
       "version_major": 2,
       "version_minor": 0
      },
      "text/plain": [
       "FloatProgress(value=0.0, bar_style='info', description='Progress:', layout=Layout(height='25px', width='50%'),…"
      ]
     },
     "metadata": {},
     "output_type": "display_data"
    },
    {
     "name": "stdout",
     "output_type": "stream",
     "text": [
      "+------+----+---------+------+-------------+--------+------+-----+--------+------+----+------------+---------+----+------+---+---------+------+\n",
      "|artist|auth|firstName|gender|itemInSession|lastName|length|level|location|method|page|registration|sessionId|song|status| ts|userAgent|userId|\n",
      "+------+----+---------+------+-------------+--------+------+-----+--------+------+----+------------+---------+----+------+---+---------+------+\n",
      "|     0|   0|        0|     0|            0|       0|     0|    0|       0|     0|   0|           0|        0|   0|     0|  0|        0|     0|\n",
      "+------+----+---------+------+-------------+--------+------+-----+--------+------+----+------------+---------+----+------+---+---------+------+"
     ]
    }
   ],
   "source": [
    "# Explore nan values\n",
    "df.select([count(when(isnan(c), c)).alias(c) for c in df.columns]).show()"
   ]
  },
  {
   "cell_type": "code",
   "execution_count": 71,
   "id": "competitive-vegetable",
   "metadata": {},
   "outputs": [
    {
     "data": {
      "application/vnd.jupyter.widget-view+json": {
       "model_id": "a6bf763fd27b45528154136623bb2d72",
       "version_major": 2,
       "version_minor": 0
      },
      "text/plain": [
       "VBox()"
      ]
     },
     "metadata": {},
     "output_type": "display_data"
    },
    {
     "data": {
      "application/vnd.jupyter.widget-view+json": {
       "model_id": "",
       "version_major": 2,
       "version_minor": 0
      },
      "text/plain": [
       "FloatProgress(value=0.0, bar_style='info', description='Progress:', layout=Layout(height='25px', width='50%'),…"
      ]
     },
     "metadata": {},
     "output_type": "display_data"
    },
    {
     "name": "stdout",
     "output_type": "stream",
     "text": [
      "+-------+----+---------+------+-------------+--------+-------+-----+--------+------+----+------------+---------+-------+------+---+---------+------+\n",
      "| artist|auth|firstName|gender|itemInSession|lastName| length|level|location|method|page|registration|sessionId|   song|status| ts|userAgent|userId|\n",
      "+-------+----+---------+------+-------------+--------+-------+-----+--------+------+----+------------+---------+-------+------+---+---------+------+\n",
      "|5408927|   0|   778479|778479|            0|  778479|5408927|    0|  778479|     0|   0|      778479|        0|5408927|     0|  0|   778479|     0|\n",
      "+-------+----+---------+------+-------------+--------+-------+-----+--------+------+----+------------+---------+-------+------+---+---------+------+"
     ]
    }
   ],
   "source": [
    "# Explore null values\n",
    "df.select([count(when(col(c).isNull(), c)).alias(c) for c in df.columns]).show()"
   ]
  },
  {
   "cell_type": "code",
   "execution_count": 73,
   "id": "falling-brush",
   "metadata": {},
   "outputs": [
    {
     "data": {
      "application/vnd.jupyter.widget-view+json": {
       "model_id": "552fd2ac05de4bf89f70cdbc8c2fadf0",
       "version_major": 2,
       "version_minor": 0
      },
      "text/plain": [
       "VBox()"
      ]
     },
     "metadata": {},
     "output_type": "display_data"
    },
    {
     "data": {
      "application/vnd.jupyter.widget-view+json": {
       "model_id": "",
       "version_major": 2,
       "version_minor": 0
      },
      "text/plain": [
       "FloatProgress(value=0.0, bar_style='info', description='Progress:', layout=Layout(height='25px', width='50%'),…"
      ]
     },
     "metadata": {},
     "output_type": "display_data"
    },
    {
     "name": "stdout",
     "output_type": "stream",
     "text": [
      "+-------+-----+----------+\n",
      "| userId|Guest|Logged Out|\n",
      "+-------+-----+----------+\n",
      "|1261737| 4194|    774285|\n",
      "+-------+-----+----------+"
     ]
    }
   ],
   "source": [
    "# Look at Userid where gender column has missing values\n",
    "df1 = df.filter(df[\"gender\"].isNull())\n",
    "df1.groupBy(\"userId\").pivot(\"auth\").count().show()"
   ]
  },
  {
   "cell_type": "code",
   "execution_count": 72,
   "id": "reduced-doubt",
   "metadata": {},
   "outputs": [
    {
     "data": {
      "application/vnd.jupyter.widget-view+json": {
       "model_id": "7e03614afdb34adf8483dfe5e052229e",
       "version_major": 2,
       "version_minor": 0
      },
      "text/plain": [
       "VBox()"
      ]
     },
     "metadata": {},
     "output_type": "display_data"
    },
    {
     "data": {
      "application/vnd.jupyter.widget-view+json": {
       "model_id": "",
       "version_major": 2,
       "version_minor": 0
      },
      "text/plain": [
       "FloatProgress(value=0.0, bar_style='info', description='Progress:', layout=Layout(height='25px', width='50%'),…"
      ]
     },
     "metadata": {},
     "output_type": "display_data"
    },
    {
     "name": "stdout",
     "output_type": "stream",
     "text": [
      "778479"
     ]
    }
   ],
   "source": [
    "# Count number of rows for  userId = 1261737\n",
    "df.filter(df[\"userId\"]==\"1261737\").count()"
   ]
  },
  {
   "cell_type": "markdown",
   "id": "simplified-arbor",
   "metadata": {},
   "source": [
    "Observation : Logs corresponding to userId 1261737 represents missing values in gender, Name,location,registration,useragent columns. Since these are either Guest or Logged Out users , therfore we can remove these 778479 rows(3%) from our data"
   ]
  },
  {
   "cell_type": "code",
   "execution_count": 88,
   "id": "third-management",
   "metadata": {},
   "outputs": [
    {
     "data": {
      "application/vnd.jupyter.widget-view+json": {
       "model_id": "6eb170ad9c6d4116917e326c82a20549",
       "version_major": 2,
       "version_minor": 0
      },
      "text/plain": [
       "VBox()"
      ]
     },
     "metadata": {},
     "output_type": "display_data"
    },
    {
     "data": {
      "application/vnd.jupyter.widget-view+json": {
       "model_id": "",
       "version_major": 2,
       "version_minor": 0
      },
      "text/plain": [
       "FloatProgress(value=0.0, bar_style='info', description='Progress:', layout=Layout(height='25px', width='50%'),…"
      ]
     },
     "metadata": {},
     "output_type": "display_data"
    }
   ],
   "source": [
    "# Remove rows with userID\"1261737\"\n",
    "df = df.filter('userID != \"1261737\" ')"
   ]
  },
  {
   "cell_type": "code",
   "execution_count": 89,
   "id": "violent-thread",
   "metadata": {},
   "outputs": [
    {
     "data": {
      "application/vnd.jupyter.widget-view+json": {
       "model_id": "d51e511e72d84bb99dee1d6e661782a5",
       "version_major": 2,
       "version_minor": 0
      },
      "text/plain": [
       "VBox()"
      ]
     },
     "metadata": {},
     "output_type": "display_data"
    },
    {
     "data": {
      "application/vnd.jupyter.widget-view+json": {
       "model_id": "",
       "version_major": 2,
       "version_minor": 0
      },
      "text/plain": [
       "FloatProgress(value=0.0, bar_style='info', description='Progress:', layout=Layout(height='25px', width='50%'),…"
      ]
     },
     "metadata": {},
     "output_type": "display_data"
    },
    {
     "name": "stdout",
     "output_type": "stream",
     "text": [
      "+-------+----+---------+------+-------------+--------+-------+-----+--------+------+----+------------+---------+-------+------+---+---------+------+\n",
      "| artist|auth|firstName|gender|itemInSession|lastName| length|level|location|method|page|registration|sessionId|   song|status| ts|userAgent|userId|\n",
      "+-------+----+---------+------+-------------+--------+-------+-----+--------+------+----+------------+---------+-------+------+---+---------+------+\n",
      "|4630448|   0|        0|     0|            0|       0|4630448|    0|       0|     0|   0|           0|        0|4630448|     0|  0|        0|     0|\n",
      "+-------+----+---------+------+-------------+--------+-------+-----+--------+------+----+------------+---------+-------+------+---+---------+------+"
     ]
    }
   ],
   "source": [
    "# Explore null values again\n",
    "df.select([count(when(col(c).isNull(), c)).alias(c) for c in df.columns]).show()"
   ]
  },
  {
   "cell_type": "code",
   "execution_count": 75,
   "id": "presidential-officer",
   "metadata": {},
   "outputs": [
    {
     "data": {
      "application/vnd.jupyter.widget-view+json": {
       "model_id": "1d7ec74b2f5f4f57979e87adf3e98479",
       "version_major": 2,
       "version_minor": 0
      },
      "text/plain": [
       "VBox()"
      ]
     },
     "metadata": {},
     "output_type": "display_data"
    },
    {
     "data": {
      "application/vnd.jupyter.widget-view+json": {
       "model_id": "",
       "version_major": 2,
       "version_minor": 0
      },
      "text/plain": [
       "FloatProgress(value=0.0, bar_style='info', description='Progress:', layout=Layout(height='25px', width='50%'),…"
      ]
     },
     "metadata": {},
     "output_type": "display_data"
    },
    {
     "name": "stdout",
     "output_type": "stream",
     "text": [
      "Number of distinct page values\n",
      "+--------------------+\n",
      "|count(DISTINCT page)|\n",
      "+--------------------+\n",
      "|                  22|\n",
      "+--------------------+"
     ]
    }
   ],
   "source": [
    "# Number of distinct page values\n",
    "print(\"Number of distinct page values\")\n",
    "df.select(countDistinct(\"page\")).show()"
   ]
  },
  {
   "cell_type": "code",
   "execution_count": 76,
   "id": "recovered-tucson",
   "metadata": {},
   "outputs": [
    {
     "data": {
      "application/vnd.jupyter.widget-view+json": {
       "model_id": "f0d6d31249574b038b269fde0c6b3a45",
       "version_major": 2,
       "version_minor": 0
      },
      "text/plain": [
       "VBox()"
      ]
     },
     "metadata": {},
     "output_type": "display_data"
    },
    {
     "data": {
      "application/vnd.jupyter.widget-view+json": {
       "model_id": "",
       "version_major": 2,
       "version_minor": 0
      },
      "text/plain": [
       "FloatProgress(value=0.0, bar_style='info', description='Progress:', layout=Layout(height='25px', width='50%'),…"
      ]
     },
     "metadata": {},
     "output_type": "display_data"
    },
    {
     "name": "stdout",
     "output_type": "stream",
     "text": [
      "+--------------------+--------+\n",
      "|                page|   count|\n",
      "+--------------------+--------+\n",
      "|              Cancel|    5003|\n",
      "|    Submit Downgrade|    6494|\n",
      "|         Thumbs Down|  239212|\n",
      "|                Home| 1343102|\n",
      "|           Downgrade|  184240|\n",
      "|         Roll Advert|  385212|\n",
      "|              Logout|  296005|\n",
      "|       Save Settings|   29516|\n",
      "|Cancellation Conf...|    5003|\n",
      "|               About|   92759|\n",
      "| Submit Registration|     401|\n",
      "|            Settings|  147074|\n",
      "|               Login|  296350|\n",
      "|            Register|     802|\n",
      "|     Add to Playlist|  597921|\n",
      "|          Add Friend|  381664|\n",
      "|            NextSong|20850272|\n",
      "|           Thumbs Up| 1151465|\n",
      "|                Help|  155100|\n",
      "|             Upgrade|   50507|\n",
      "+--------------------+--------+\n",
      "only showing top 20 rows"
     ]
    }
   ],
   "source": [
    "# number of records per page type\n",
    "page_records = df.groupby(\"page\").count()\n",
    "page_records.show()"
   ]
  },
  {
   "cell_type": "code",
   "execution_count": 77,
   "id": "smart-extreme",
   "metadata": {},
   "outputs": [
    {
     "data": {
      "application/vnd.jupyter.widget-view+json": {
       "model_id": "f7a6e758927445769a3f6636fccdde23",
       "version_major": 2,
       "version_minor": 0
      },
      "text/plain": [
       "VBox()"
      ]
     },
     "metadata": {},
     "output_type": "display_data"
    },
    {
     "data": {
      "application/vnd.jupyter.widget-view+json": {
       "model_id": "",
       "version_major": 2,
       "version_minor": 0
      },
      "text/plain": [
       "FloatProgress(value=0.0, bar_style='info', description='Progress:', layout=Layout(height='25px', width='50%'),…"
      ]
     },
     "metadata": {},
     "output_type": "display_data"
    },
    {
     "name": "stdout",
     "output_type": "stream",
     "text": [
      "+----------+--------+\n",
      "|      auth|   count|\n",
      "+----------+--------+\n",
      "|Logged Out|  774285|\n",
      "| Cancelled|    5003|\n",
      "|     Guest|    4194|\n",
      "| Logged In|25475717|\n",
      "+----------+--------+"
     ]
    }
   ],
   "source": [
    "# Number Of records per auth type\n",
    "df.groupby(\"auth\").count().show()"
   ]
  },
  {
   "cell_type": "code",
   "execution_count": 78,
   "id": "failing-magnitude",
   "metadata": {},
   "outputs": [
    {
     "data": {
      "application/vnd.jupyter.widget-view+json": {
       "model_id": "5cc82fd84ba648b6aef921a1b686c731",
       "version_major": 2,
       "version_minor": 0
      },
      "text/plain": [
       "VBox()"
      ]
     },
     "metadata": {},
     "output_type": "display_data"
    },
    {
     "data": {
      "application/vnd.jupyter.widget-view+json": {
       "model_id": "",
       "version_major": 2,
       "version_minor": 0
      },
      "text/plain": [
       "FloatProgress(value=0.0, bar_style='info', description='Progress:', layout=Layout(height='25px', width='50%'),…"
      ]
     },
     "metadata": {},
     "output_type": "display_data"
    },
    {
     "name": "stdout",
     "output_type": "stream",
     "text": [
      "Number of unique songs :\n",
      "+--------------------+\n",
      "|count(DISTINCT song)|\n",
      "+--------------------+\n",
      "|              253564|\n",
      "+--------------------+"
     ]
    }
   ],
   "source": [
    "# Number of unique songs\n",
    "print (\"Number of unique songs :\")\n",
    "df.select(countDistinct(\"song\")).show()"
   ]
  },
  {
   "cell_type": "code",
   "execution_count": 79,
   "id": "pacific-stand",
   "metadata": {},
   "outputs": [
    {
     "data": {
      "application/vnd.jupyter.widget-view+json": {
       "model_id": "34dd56815b0f46ba901e24f9e0c54ed7",
       "version_major": 2,
       "version_minor": 0
      },
      "text/plain": [
       "VBox()"
      ]
     },
     "metadata": {},
     "output_type": "display_data"
    },
    {
     "data": {
      "application/vnd.jupyter.widget-view+json": {
       "model_id": "",
       "version_major": 2,
       "version_minor": 0
      },
      "text/plain": [
       "FloatProgress(value=0.0, bar_style='info', description='Progress:', layout=Layout(height='25px', width='50%'),…"
      ]
     },
     "metadata": {},
     "output_type": "display_data"
    },
    {
     "name": "stdout",
     "output_type": "stream",
     "text": [
      "Number of unique Users:\n",
      "+----------------------+\n",
      "|count(DISTINCT userId)|\n",
      "+----------------------+\n",
      "|                 22278|\n",
      "+----------------------+"
     ]
    }
   ],
   "source": [
    "# Number of unique Users\n",
    "print(\"Number of unique Users:\")\n",
    "df.select(countDistinct(\"userId\")).show()"
   ]
  },
  {
   "cell_type": "code",
   "execution_count": 22,
   "id": "tender-figure",
   "metadata": {},
   "outputs": [
    {
     "data": {
      "application/vnd.jupyter.widget-view+json": {
       "model_id": "f749fff2613c42fa986574dd75f37fa9",
       "version_major": 2,
       "version_minor": 0
      },
      "text/plain": [
       "VBox()"
      ]
     },
     "metadata": {},
     "output_type": "display_data"
    },
    {
     "data": {
      "application/vnd.jupyter.widget-view+json": {
       "model_id": "",
       "version_major": 2,
       "version_minor": 0
      },
      "text/plain": [
       "FloatProgress(value=0.0, bar_style='info', description='Progress:', layout=Layout(height='25px', width='50%'),…"
      ]
     },
     "metadata": {},
     "output_type": "display_data"
    },
    {
     "name": "stdout",
     "output_type": "stream",
     "text": [
      "Number of unique artists:\n",
      "+----------------------+\n",
      "|count(DISTINCT artist)|\n",
      "+----------------------+\n",
      "|                 38337|\n",
      "+----------------------+"
     ]
    }
   ],
   "source": [
    "# Number of unique artists\n",
    "print(\"Number of unique artists:\")\n",
    "df.select(countDistinct(\"artist\")).show()"
   ]
  },
  {
   "cell_type": "code",
   "execution_count": 23,
   "id": "collect-tuition",
   "metadata": {},
   "outputs": [
    {
     "data": {
      "application/vnd.jupyter.widget-view+json": {
       "model_id": "a29d517906914acd9ddb22cd6a233a8a",
       "version_major": 2,
       "version_minor": 0
      },
      "text/plain": [
       "VBox()"
      ]
     },
     "metadata": {},
     "output_type": "display_data"
    },
    {
     "data": {
      "application/vnd.jupyter.widget-view+json": {
       "model_id": "",
       "version_major": 2,
       "version_minor": 0
      },
      "text/plain": [
       "FloatProgress(value=0.0, bar_style='info', description='Progress:', layout=Layout(height='25px', width='50%'),…"
      ]
     },
     "metadata": {},
     "output_type": "display_data"
    },
    {
     "name": "stdout",
     "output_type": "stream",
     "text": [
      "+-----+--------+\n",
      "|level|   count|\n",
      "+-----+--------+\n",
      "| free| 5408240|\n",
      "| paid|20072480|\n",
      "+-----+--------+"
     ]
    }
   ],
   "source": [
    "# Number Of records per level type#\n",
    "df.groupby(\"level\").count().show()"
   ]
  },
  {
   "cell_type": "code",
   "execution_count": 80,
   "id": "convinced-episode",
   "metadata": {},
   "outputs": [
    {
     "data": {
      "application/vnd.jupyter.widget-view+json": {
       "model_id": "3dddf1298ee64d35aa7b4e8bdfe4f512",
       "version_major": 2,
       "version_minor": 0
      },
      "text/plain": [
       "VBox()"
      ]
     },
     "metadata": {},
     "output_type": "display_data"
    },
    {
     "data": {
      "application/vnd.jupyter.widget-view+json": {
       "model_id": "",
       "version_major": 2,
       "version_minor": 0
      },
      "text/plain": [
       "FloatProgress(value=0.0, bar_style='info', description='Progress:', layout=Layout(height='25px', width='50%'),…"
      ]
     },
     "metadata": {},
     "output_type": "display_data"
    },
    {
     "name": "stdout",
     "output_type": "stream",
     "text": [
      "Shape of dataframe :  (26259199, 18)"
     ]
    }
   ],
   "source": [
    "# New Shape of dataframe\n",
    "print(\"Shape of dataframe : \",(df.count(), len(df.columns)))"
   ]
  },
  {
   "cell_type": "code",
   "execution_count": 90,
   "id": "beautiful-session",
   "metadata": {},
   "outputs": [
    {
     "data": {
      "application/vnd.jupyter.widget-view+json": {
       "model_id": "2b69617e470d41d5a4281d891351595f",
       "version_major": 2,
       "version_minor": 0
      },
      "text/plain": [
       "VBox()"
      ]
     },
     "metadata": {},
     "output_type": "display_data"
    },
    {
     "data": {
      "application/vnd.jupyter.widget-view+json": {
       "model_id": "",
       "version_major": 2,
       "version_minor": 0
      },
      "text/plain": [
       "FloatProgress(value=0.0, bar_style='info', description='Progress:', layout=Layout(height='25px', width='50%'),…"
      ]
     },
     "metadata": {},
     "output_type": "display_data"
    },
    {
     "name": "stdout",
     "output_type": "stream",
     "text": [
      "+-------------+-------------------+----------+-------------+-------------------+----------+\n",
      "|           ts|           datetime|      date| registration|       reg_datetime|  reg_date|\n",
      "+-------------+-------------------+----------+-------------+-------------------+----------+\n",
      "|1538352001000|2018-10-01 00:00:01|2018-10-01|1533734541000|2018-08-08 13:22:21|2018-08-08|\n",
      "|1538352002000|2018-10-01 00:00:02|2018-10-01|1537500318000|2018-09-21 03:25:18|2018-09-21|\n",
      "|1538352002000|2018-10-01 00:00:02|2018-10-01|1536414505000|2018-09-08 13:48:25|2018-09-08|\n",
      "|1538352003000|2018-10-01 00:00:03|2018-10-01|1534386660000|2018-08-16 02:31:00|2018-08-16|\n",
      "|1538352003000|2018-10-01 00:00:03|2018-10-01|1537381415000|2018-09-19 18:23:35|2018-09-19|\n",
      "|1538352004000|2018-10-01 00:00:04|2018-10-01|1537602560000|2018-09-22 07:49:20|2018-09-22|\n",
      "|1538352005000|2018-10-01 00:00:05|2018-10-01|1536563853000|2018-09-10 07:17:33|2018-09-10|\n",
      "|1538352006000|2018-10-01 00:00:06|2018-10-01|1538069376000|2018-09-27 17:29:36|2018-09-27|\n",
      "|1538352006000|2018-10-01 00:00:06|2018-10-01|1536455539000|2018-09-09 01:12:19|2018-09-09|\n",
      "|1538352006000|2018-10-01 00:00:06|2018-10-01|1533220062000|2018-08-02 14:27:42|2018-08-02|\n",
      "+-------------+-------------------+----------+-------------+-------------------+----------+\n",
      "only showing top 10 rows"
     ]
    }
   ],
   "source": [
    "# Adding columns for datetime and date from the timestamp columns(ts and registration)\n",
    "\n",
    "# Function to get datetime\n",
    "get_time= udf(lambda x: datetime.datetime.fromtimestamp(x / 1000.0).strftime(\"%Y-%m-%d %H:%M:%S\"))\n",
    "\n",
    "# Creating a data frame with addional columns for datetime\n",
    "data = df.withColumn(\"datetime\", get_time(df.ts))\n",
    "data = data.withColumn(\"reg_datetime\", get_time(df.registration))\n",
    "\n",
    "spark.sql(\"set spark.sql.legacy.timeParserPolicy=LEGACY\")\n",
    "\n",
    "# Adding date columns\n",
    "data = data.withColumn(\"date\", to_date(col(\"datetime\"),\"yyyy-MM-dd\"))\n",
    "data = data.withColumn(\"reg_date\", to_date(col(\"reg_datetime\"),\"yyyy-MM-dd\"))\n",
    "\n",
    "# Look at the original timestamp and added columns\n",
    "data.select(\"ts\",\"datetime\",\"date\",\"registration\",\"reg_datetime\",\"reg_date\").show(10)"
   ]
  },
  {
   "cell_type": "code",
   "execution_count": 82,
   "id": "discrete-sleep",
   "metadata": {},
   "outputs": [
    {
     "data": {
      "application/vnd.jupyter.widget-view+json": {
       "model_id": "a3072528769848a18a7e620631171d89",
       "version_major": 2,
       "version_minor": 0
      },
      "text/plain": [
       "VBox()"
      ]
     },
     "metadata": {},
     "output_type": "display_data"
    },
    {
     "data": {
      "application/vnd.jupyter.widget-view+json": {
       "model_id": "",
       "version_major": 2,
       "version_minor": 0
      },
      "text/plain": [
       "FloatProgress(value=0.0, bar_style='info', description='Progress:', layout=Layout(height='25px', width='50%'),…"
      ]
     },
     "metadata": {},
     "output_type": "display_data"
    },
    {
     "name": "stdout",
     "output_type": "stream",
     "text": [
      "+-------------------+-------------------+\n",
      "|      min(datetime)|      max(datetime)|\n",
      "+-------------------+-------------------+\n",
      "|2018-10-01 00:00:01|2018-12-01 00:00:02|\n",
      "+-------------------+-------------------+"
     ]
    }
   ],
   "source": [
    "# Minimum and Maximum log time in data\n",
    "data.select(\"datetime\").agg(min(\"datetime\"),max(\"datetime\")).show()"
   ]
  },
  {
   "cell_type": "markdown",
   "id": "geographic-miniature",
   "metadata": {},
   "source": [
    "%md\n",
    "Observation : Logs data is available for 2 months from 1st Oct,2018 to 1st Dec,2018"
   ]
  },
  {
   "cell_type": "code",
   "execution_count": 27,
   "id": "focused-actress",
   "metadata": {},
   "outputs": [
    {
     "data": {
      "application/vnd.jupyter.widget-view+json": {
       "model_id": "17dac3868f954bf0a767befd97abef60",
       "version_major": 2,
       "version_minor": 0
      },
      "text/plain": [
       "VBox()"
      ]
     },
     "metadata": {},
     "output_type": "display_data"
    },
    {
     "data": {
      "application/vnd.jupyter.widget-view+json": {
       "model_id": "",
       "version_major": 2,
       "version_minor": 0
      },
      "text/plain": [
       "FloatProgress(value=0.0, bar_style='info', description='Progress:', layout=Layout(height='25px', width='50%'),…"
      ]
     },
     "metadata": {},
     "output_type": "display_data"
    },
    {
     "name": "stdout",
     "output_type": "stream",
     "text": [
      "+-------------------+-------------------+\n",
      "|  min(reg_datetime)|  max(reg_datetime)|\n",
      "+-------------------+-------------------+\n",
      "|2017-10-14 22:05:25|2018-12-03 07:23:42|\n",
      "+-------------------+-------------------+"
     ]
    }
   ],
   "source": [
    "# Minimum and Maximum user registration time in data\n",
    "data.select(\"reg_datetime\").agg(min(\"reg_datetime\"),max(\"reg_datetime\")).show()"
   ]
  },
  {
   "cell_type": "markdown",
   "id": "potential-horizontal",
   "metadata": {},
   "source": [
    "Observation : Just based on available logs data, on an average, life of Non Churn user are more than Churn Users. "
   ]
  },
  {
   "cell_type": "markdown",
   "id": "annoying-following",
   "metadata": {},
   "source": [
    "More observations from data exploration: \n",
    "- After every \"cancellation\" event page there is always a \"cancellation confirmation\" event page\n",
    "- After \"downgrade\" event, there is no changed observed for user for level but after every \"submit downgrade\" event, level changes from paid to free."
   ]
  },
  {
   "cell_type": "markdown",
   "id": "processed-arizona",
   "metadata": {},
   "source": [
    "**2. Exploratory Data Analysis:**"
   ]
  },
  {
   "cell_type": "code",
   "execution_count": 91,
   "id": "current-oxide",
   "metadata": {},
   "outputs": [
    {
     "data": {
      "application/vnd.jupyter.widget-view+json": {
       "model_id": "a361a8a974c244da9f3d696384be52fc",
       "version_major": 2,
       "version_minor": 0
      },
      "text/plain": [
       "VBox()"
      ]
     },
     "metadata": {},
     "output_type": "display_data"
    },
    {
     "data": {
      "application/vnd.jupyter.widget-view+json": {
       "model_id": "",
       "version_major": 2,
       "version_minor": 0
      },
      "text/plain": [
       "FloatProgress(value=0.0, bar_style='info', description='Progress:', layout=Layout(height='25px', width='50%'),…"
      ]
     },
     "metadata": {},
     "output_type": "display_data"
    },
    {
     "name": "stdout",
     "output_type": "stream",
     "text": [
      "+--------------------+---------+---------+------+-------------+--------+----------+-----+--------------------+------+--------+-------------+---------+--------------------+------+-------------+--------------------+-------+-------------------+-------------------+----------+----------+--------+\n",
      "|              artist|     auth|firstName|gender|itemInSession|lastName|    length|level|            location|method|    page| registration|sessionId|                song|status|           ts|           userAgent| userId|           datetime|       reg_datetime|      date|  reg_date|Is_Churn|\n",
      "+--------------------+---------+---------+------+-------------+--------+----------+-----+--------------------+------+--------+-------------+---------+--------------------+------+-------------+--------------------+-------+-------------------+-------------------+----------+----------+--------+\n",
      "|           Popol Vuh|Logged In|    Shlok|     M|          278| Johnson| 524.32934| paid|Dallas-Fort Worth...|   PUT|NextSong|1533734541000|    22683|Ich mache einen S...|   200|1538352001000|\"Mozilla/5.0 (Win...|1749042|2018-10-01 00:00:01|2018-08-08 13:22:21|2018-10-01|2018-08-08|       0|\n",
      "|         Los Bunkers|Logged In|  Vianney|     F|            9|  Miller| 238.39302| paid|San Francisco-Oak...|   PUT|NextSong|1537500318000|    20836|         MiÃÂ©ntele|   200|1538352002000|\"Mozilla/5.0 (Mac...|1563081|2018-10-01 00:00:02|2018-09-21 03:25:18|2018-10-01|2018-09-21|       0|\n",
      "|                Lush|Logged In|     Vina|     F|          109|  Bailey| 140.35546| paid|            Hilo, HI|   PUT|NextSong|1536414505000|     4593|           Baby Talk|   200|1538352002000|Mozilla/5.0 (Maci...|1697168|2018-10-01 00:00:02|2018-09-08 13:48:25|2018-10-01|2018-09-08|       0|\n",
      "|Barry Tuckwell/Ac...|Logged In|   Andres|     M|           71|   Foley| 277.15873| paid|       Watertown, SD|   PUT|NextSong|1534386660000|     6370|Horn Concerto No....|   200|1538352003000|\"Mozilla/5.0 (Mac...|1222580|2018-10-01 00:00:03|2018-08-16 02:31:00|2018-10-01|2018-08-16|       0|\n",
      "|                 Yes|Logged In|  Aaliyah|     F|           21| Ramirez|1121.25342| paid|Baltimore-Columbi...|   PUT|NextSong|1537381415000|    22316|Close To The Edge...|   200|1538352003000|\"Mozilla/5.0 (Win...|1714398|2018-10-01 00:00:03|2018-09-19 18:23:35|2018-10-01|2018-09-19|       0|\n",
      "+--------------------+---------+---------+------+-------------+--------+----------+-----+--------------------+------+--------+-------------+---------+--------------------+------+-------------+--------------------+-------+-------------------+-------------------+----------+----------+--------+\n",
      "only showing top 5 rows"
     ]
    }
   ],
   "source": [
    "#Adding a label column representing Churn event\n",
    "Is_Churn = udf(lambda x : int(1) if x==\"Cancellation Confirmation\" else int(0))\n",
    "data = data.withColumn(\"Is_Churn\", Is_Churn(data.page))\n",
    "\n",
    "data.show(5)"
   ]
  },
  {
   "cell_type": "code",
   "execution_count": 85,
   "id": "basic-jacket",
   "metadata": {},
   "outputs": [
    {
     "data": {
      "application/vnd.jupyter.widget-view+json": {
       "model_id": "b5ba7f6fb81c487c9e001891818e1d43",
       "version_major": 2,
       "version_minor": 0
      },
      "text/plain": [
       "VBox()"
      ]
     },
     "metadata": {},
     "output_type": "display_data"
    },
    {
     "data": {
      "application/vnd.jupyter.widget-view+json": {
       "model_id": "",
       "version_major": 2,
       "version_minor": 0
      },
      "text/plain": [
       "FloatProgress(value=0.0, bar_style='info', description='Progress:', layout=Layout(height='25px', width='50%'),…"
      ]
     },
     "metadata": {},
     "output_type": "display_data"
    },
    {
     "name": "stdout",
     "output_type": "stream",
     "text": [
      "Total number of unique Users:\n",
      "+----------------------+\n",
      "|count(DISTINCT userId)|\n",
      "+----------------------+\n",
      "|                 22278|\n",
      "+----------------------+\n",
      "\n",
      "Number of unique Churned Users:\n",
      "+----------------------+\n",
      "|count(DISTINCT userId)|\n",
      "+----------------------+\n",
      "|                  5003|\n",
      "+----------------------+"
     ]
    }
   ],
   "source": [
    "# Number of total unique Users\n",
    "print(\"Total number of unique Users:\")\n",
    "data.select(countDistinct(\"userId\")).show()\n",
    "\n",
    "# Number of unique Users\n",
    "print(\"Number of unique Churned Users:\")\n",
    "data.filter(data[\"Is_Churn\"]==1).select(countDistinct(\"userId\")).show()"
   ]
  },
  {
   "cell_type": "code",
   "execution_count": 30,
   "id": "every-pittsburgh",
   "metadata": {},
   "outputs": [
    {
     "data": {
      "application/vnd.jupyter.widget-view+json": {
       "model_id": "bf431c433a3f4d5e9925fad24b877579",
       "version_major": 2,
       "version_minor": 0
      },
      "text/plain": [
       "VBox()"
      ]
     },
     "metadata": {},
     "output_type": "display_data"
    },
    {
     "data": {
      "application/vnd.jupyter.widget-view+json": {
       "model_id": "",
       "version_major": 2,
       "version_minor": 0
      },
      "text/plain": [
       "FloatProgress(value=0.0, bar_style='info', description='Progress:', layout=Layout(height='25px', width='50%'),…"
      ]
     },
     "metadata": {},
     "output_type": "display_data"
    },
    {
     "name": "stdout",
     "output_type": "stream",
     "text": [
      "+--------+---------+---------+\n",
      "|Is_Churn|Cancelled|Logged In|\n",
      "+--------+---------+---------+\n",
      "|       0|     null| 25475717|\n",
      "|       1|     5003|     null|\n",
      "+--------+---------+---------+"
     ]
    }
   ],
   "source": [
    "# Distribution of Is_Churn amoung auth catergories\n",
    "data.groupby(\"Is_Churn\").pivot(\"auth\").count().show()"
   ]
  },
  {
   "cell_type": "code",
   "execution_count": 31,
   "id": "needed-prevention",
   "metadata": {},
   "outputs": [
    {
     "data": {
      "application/vnd.jupyter.widget-view+json": {
       "model_id": "36232f27d48a4950a650be1a7719f8c1",
       "version_major": 2,
       "version_minor": 0
      },
      "text/plain": [
       "VBox()"
      ]
     },
     "metadata": {},
     "output_type": "display_data"
    },
    {
     "data": {
      "application/vnd.jupyter.widget-view+json": {
       "model_id": "",
       "version_major": 2,
       "version_minor": 0
      },
      "text/plain": [
       "FloatProgress(value=0.0, bar_style='info', description='Progress:', layout=Layout(height='25px', width='50%'),…"
      ]
     },
     "metadata": {},
     "output_type": "display_data"
    },
    {
     "name": "stdout",
     "output_type": "stream",
     "text": [
      "+--------+--------+--------+\n",
      "|Is_Churn|       F|       M|\n",
      "+--------+--------+--------+\n",
      "|       0|12178811|13296906|\n",
      "|       1|    2347|    2656|\n",
      "+--------+--------+--------+"
     ]
    }
   ],
   "source": [
    "# Distribution of Is_Churn amoung gender catergories\n",
    "data.groupby(\"Is_Churn\").pivot(\"gender\").count().show()"
   ]
  },
  {
   "cell_type": "code",
   "execution_count": 32,
   "id": "sized-designer",
   "metadata": {},
   "outputs": [
    {
     "data": {
      "application/vnd.jupyter.widget-view+json": {
       "model_id": "c3a9579d054743da9a8a486155da3da9",
       "version_major": 2,
       "version_minor": 0
      },
      "text/plain": [
       "VBox()"
      ]
     },
     "metadata": {},
     "output_type": "display_data"
    },
    {
     "data": {
      "application/vnd.jupyter.widget-view+json": {
       "model_id": "",
       "version_major": 2,
       "version_minor": 0
      },
      "text/plain": [
       "FloatProgress(value=0.0, bar_style='info', description='Progress:', layout=Layout(height='25px', width='50%'),…"
      ]
     },
     "metadata": {},
     "output_type": "display_data"
    },
    {
     "name": "stdout",
     "output_type": "stream",
     "text": [
      "+--------+-------+--------+\n",
      "|Is_Churn|   free|    paid|\n",
      "+--------+-------+--------+\n",
      "|       0|5406661|20069056|\n",
      "|       1|   1579|    3424|\n",
      "+--------+-------+--------+"
     ]
    }
   ],
   "source": [
    "# Distribution of Is_Churn amoung level catergories\n",
    "data.groupby(\"Is_Churn\").pivot(\"level\").count().show()"
   ]
  },
  {
   "cell_type": "markdown",
   "id": "criminal-klein",
   "metadata": {},
   "source": [
    "Observation :Free users are two times more likely to churn compared to Non-Churn users"
   ]
  },
  {
   "cell_type": "code",
   "execution_count": 33,
   "id": "fossil-chancellor",
   "metadata": {},
   "outputs": [
    {
     "data": {
      "application/vnd.jupyter.widget-view+json": {
       "model_id": "8233892a7a3741cdab966491a7700169",
       "version_major": 2,
       "version_minor": 0
      },
      "text/plain": [
       "VBox()"
      ]
     },
     "metadata": {},
     "output_type": "display_data"
    },
    {
     "data": {
      "application/vnd.jupyter.widget-view+json": {
       "model_id": "",
       "version_major": 2,
       "version_minor": 0
      },
      "text/plain": [
       "FloatProgress(value=0.0, bar_style='info', description='Progress:', layout=Layout(height='25px', width='50%'),…"
      ]
     },
     "metadata": {},
     "output_type": "display_data"
    },
    {
     "name": "stdout",
     "output_type": "stream",
     "text": [
      "+-------+------------------------+--------+\n",
      "| userId|Number_of_songs_listened|Is_Churn|\n",
      "+-------+------------------------+--------+\n",
      "|1000280|                    1022|       1|\n",
      "|1002185|                    1778|       0|\n",
      "|1017805|                     250|       0|\n",
      "|1030587|                    1472|       0|\n",
      "|1033297|                     236|       0|\n",
      "|1057724|                    3847|       0|\n",
      "|1059049|                     559|       0|\n",
      "|1069552|                     455|       0|\n",
      "|1071308|                    1409|       1|\n",
      "|1076191|                      47|       1|\n",
      "+-------+------------------------+--------+\n",
      "only showing top 10 rows"
     ]
    }
   ],
   "source": [
    "# Average number of songs listened by Churn and Non Churn Users during the available logs data\n",
    "from pyspark.sql.functions import count\n",
    "Number_of_songs_per_user = data.groupBy(\"userId\").agg(count(\"song\").alias(\"Number_of_songs_listened\"),max(\"Is_Churn\").alias(\"Is_Churn\"))\n",
    "dataframe1 = Number_of_songs_per_user\n",
    "dataframe1.show(10)"
   ]
  },
  {
   "cell_type": "code",
   "execution_count": 34,
   "id": "revised-wiring",
   "metadata": {},
   "outputs": [
    {
     "data": {
      "application/vnd.jupyter.widget-view+json": {
       "model_id": "14f6a25a4b47497eb03eb442f5cdf5ee",
       "version_major": 2,
       "version_minor": 0
      },
      "text/plain": [
       "VBox()"
      ]
     },
     "metadata": {},
     "output_type": "display_data"
    },
    {
     "data": {
      "application/vnd.jupyter.widget-view+json": {
       "model_id": "",
       "version_major": 2,
       "version_minor": 0
      },
      "text/plain": [
       "FloatProgress(value=0.0, bar_style='info', description='Progress:', layout=Layout(height='25px', width='50%'),…"
      ]
     },
     "metadata": {},
     "output_type": "display_data"
    },
    {
     "name": "stdout",
     "output_type": "stream",
     "text": [
      "+-------+------------------+--------+\n",
      "| userID|Number_of_Sessions|Is_Churn|\n",
      "+-------+------------------+--------+\n",
      "|1200956|              4143|     0.0|\n",
      "|1396135|              1144|     0.0|\n",
      "|1718034|               875|     1.0|\n",
      "|1567623|              1375|     0.0|\n",
      "|1396828|              1519|     1.0|\n",
      "|1633577|              4134|     0.0|\n",
      "|1347224|               860|     0.0|\n",
      "|1102913|               904|     0.0|\n",
      "|1083324|              1784|     0.0|\n",
      "|1190352|              2622|     0.0|\n",
      "+-------+------------------+--------+\n",
      "only showing top 10 rows"
     ]
    }
   ],
   "source": [
    "#SessionID_exploration\n",
    "\n",
    "# Average Numbers of sessions with Churn and Non Churn Users during the available logs data\n",
    "SessionID_exploration = data.groupBy(\"userID\").agg(count(\"sessionId\").alias(\"Number_of_Sessions\"),sum(\"Is_Churn\").alias(\"Is_Churn\"))\n",
    "dataframe2 = SessionID_exploration\n",
    "dataframe2.show(10)"
   ]
  },
  {
   "cell_type": "code",
   "execution_count": 35,
   "id": "dependent-farmer",
   "metadata": {},
   "outputs": [
    {
     "data": {
      "application/vnd.jupyter.widget-view+json": {
       "model_id": "b9478f78b515419c9bfd572d84237c4f",
       "version_major": 2,
       "version_minor": 0
      },
      "text/plain": [
       "VBox()"
      ]
     },
     "metadata": {},
     "output_type": "display_data"
    },
    {
     "data": {
      "application/vnd.jupyter.widget-view+json": {
       "model_id": "",
       "version_major": 2,
       "version_minor": 0
      },
      "text/plain": [
       "FloatProgress(value=0.0, bar_style='info', description='Progress:', layout=Layout(height='25px', width='50%'),…"
      ]
     },
     "metadata": {},
     "output_type": "display_data"
    },
    {
     "name": "stdout",
     "output_type": "stream",
     "text": [
      "+-------+--------+--------------------------+\n",
      "| userID|Is_churn|Avg_session_length_seconds|\n",
      "+-------+--------+--------------------------+\n",
      "|1000280|       1|        11694.363636363636|\n",
      "|1002185|       0|        26084.352941176472|\n",
      "|1017805|       0|        21136.666666666668|\n",
      "|1030587|       0|         32943.63636363636|\n",
      "|1033297|       0|                   11821.0|\n",
      "|1057724|       0|                 23844.775|\n",
      "|1059049|       0|                   28119.6|\n",
      "|1069552|       0|         9298.416666666666|\n",
      "|1071308|       1|        19334.944444444445|\n",
      "|1076191|       1|         5188.333333333333|\n",
      "+-------+--------+--------------------------+\n",
      "only showing top 10 rows"
     ]
    }
   ],
   "source": [
    "# Average Session length with Churn and Non Churn Users during the available logs data\n",
    "session_data = data.groupBy(\"userID\",\"sessionId\").agg(max(\"Is_Churn\").alias(\"Is_churn\"),max(\"datetime\").alias(\"max_time\"),min(\"datetime\").alias(\"min_time\"))\n",
    "session_data =session_data.withColumn(\"Session_length\",(unix_timestamp(\"max_time\")-unix_timestamp(\"min_time\")) )\n",
    "dataframe3 = session_data.groupBy(\"userID\").agg(max(\"Is_churn\").alias(\"Is_churn\"),mean(\"Session_length\").alias(\"Avg_session_length_seconds\"))\n",
    "dataframe3.show(10)"
   ]
  },
  {
   "cell_type": "code",
   "execution_count": 36,
   "id": "second-credit",
   "metadata": {},
   "outputs": [
    {
     "data": {
      "application/vnd.jupyter.widget-view+json": {
       "model_id": "91fedfc9413246fe80b0fbb029fb46bd",
       "version_major": 2,
       "version_minor": 0
      },
      "text/plain": [
       "VBox()"
      ]
     },
     "metadata": {},
     "output_type": "display_data"
    },
    {
     "data": {
      "application/vnd.jupyter.widget-view+json": {
       "model_id": "",
       "version_major": 2,
       "version_minor": 0
      },
      "text/plain": [
       "FloatProgress(value=0.0, bar_style='info', description='Progress:', layout=Layout(height='25px', width='50%'),…"
      ]
     },
     "metadata": {},
     "output_type": "display_data"
    },
    {
     "name": "stdout",
     "output_type": "stream",
     "text": [
      "+-------+--------+----------+----------+-------------------------------+\n",
      "| userId|Is_Churn|  reg_time|  max_time|User_age_days_from_registration|\n",
      "+-------+--------+----------+----------+-------------------------------+\n",
      "|1000280|       1|2018-08-28|2018-11-13|                             77|\n",
      "|1002185|       0|2018-09-24|2018-11-28|                             65|\n",
      "|1017805|       0|2018-09-02|2018-10-27|                             55|\n",
      "|1030587|       0|2018-07-21|2018-11-29|                            131|\n",
      "|1033297|       0|2018-08-03|2018-11-27|                            116|\n",
      "|1057724|       0|2018-08-25|2018-11-29|                             96|\n",
      "|1059049|       0|2018-07-11|2018-11-22|                            134|\n",
      "|1069552|       0|2018-07-25|2018-11-28|                            126|\n",
      "|1071308|       1|2018-09-07|2018-11-10|                             64|\n",
      "|1076191|       1|2018-09-18|2018-10-17|                             29|\n",
      "+-------+--------+----------+----------+-------------------------------+\n",
      "only showing top 10 rows"
     ]
    }
   ],
   "source": [
    "# Users age from the registration\n",
    "from pyspark.sql.functions import col, max\n",
    "from pyspark.sql.functions import datediff,col\n",
    "user_age = data.groupBy(\"userId\").agg(max(\"Is_Churn\").alias(\"Is_Churn\"),min(\"reg_date\").alias(\"reg_time\"),max(\"date\").alias(\"max_time\"))\n",
    "dataframe4 = user_age.withColumn(\"User_age_days_from_registration\", datediff(col(\"max_time\"),col(\"reg_time\")).alias(\"user_age_days\"))\n",
    "dataframe4.show(10)"
   ]
  },
  {
   "cell_type": "code",
   "execution_count": 37,
   "id": "interesting-coast",
   "metadata": {},
   "outputs": [
    {
     "data": {
      "application/vnd.jupyter.widget-view+json": {
       "model_id": "327c5b144a6c4551b4bb0279f0ac6e57",
       "version_major": 2,
       "version_minor": 0
      },
      "text/plain": [
       "VBox()"
      ]
     },
     "metadata": {},
     "output_type": "display_data"
    },
    {
     "data": {
      "application/vnd.jupyter.widget-view+json": {
       "model_id": "",
       "version_major": 2,
       "version_minor": 0
      },
      "text/plain": [
       "FloatProgress(value=0.0, bar_style='info', description='Progress:', layout=Layout(height='25px', width='50%'),…"
      ]
     },
     "metadata": {},
     "output_type": "display_data"
    },
    {
     "name": "stdout",
     "output_type": "stream",
     "text": [
      "+-------+--------+----------+----------+------------------------------------+\n",
      "| userId|Is_Churn|  min_time|  max_time|User_life_days_after_1st_October2018|\n",
      "+-------+--------+----------+----------+------------------------------------+\n",
      "|1000280|       1|2018-10-01|2018-11-13|                                  43|\n",
      "|1002185|       0|2018-10-01|2018-11-28|                                  58|\n",
      "|1017805|       0|2018-10-02|2018-10-27|                                  25|\n",
      "|1030587|       0|2018-10-11|2018-11-29|                                  49|\n",
      "|1033297|       0|2018-10-25|2018-11-27|                                  33|\n",
      "|1057724|       0|2018-10-01|2018-11-29|                                  59|\n",
      "|1059049|       0|2018-10-16|2018-11-22|                                  37|\n",
      "|1069552|       0|2018-10-03|2018-11-28|                                  56|\n",
      "|1071308|       1|2018-10-02|2018-11-10|                                  39|\n",
      "|1076191|       1|2018-10-09|2018-10-17|                                   8|\n",
      "+-------+--------+----------+----------+------------------------------------+\n",
      "only showing top 10 rows"
     ]
    }
   ],
   "source": [
    "# Users life within our available logs timing data\n",
    "from pyspark.sql.functions import col, max\n",
    "from pyspark.sql.functions import datediff,col\n",
    "user_life = data.groupBy(\"userId\").agg(max(\"Is_Churn\").alias(\"Is_Churn\"),min(\"date\").alias(\"min_time\"),max(\"date\").alias(\"max_time\"))\n",
    "dataframe5 = user_life.withColumn(\"User_life_days_after_1st_October2018\", datediff(col(\"max_time\"),col(\"min_time\")).alias(\"user_life_days\"))\n",
    "dataframe5.show(10)"
   ]
  },
  {
   "cell_type": "markdown",
   "id": "traditional-negative",
   "metadata": {},
   "source": [
    "***3.Feature Engineering: ***"
   ]
  },
  {
   "cell_type": "code",
   "execution_count": null,
   "id": "juvenile-average",
   "metadata": {},
   "outputs": [],
   "source": [
    "# Filtering relevant data for our feature engineering\n",
    "data_relevant = data.select(\"userId\",\"ts\",\"datetime\",\"date\",\"registration\",\"reg_datetime\",\"reg_date\",\"sessionId\",\"page\",\"song\",\"length\",\"level\",\"Gender\",\"Is_Churn\").sort(col(\"userId\"),col(\"date\").asc())\n",
    "data_relevant.show()"
   ]
  },
  {
   "cell_type": "code",
   "execution_count": null,
   "id": "apart-madrid",
   "metadata": {},
   "outputs": [],
   "source": [
    "# Rename Is_Churn Column\n",
    "data_relevant = data_relevant.withColumnRenamed(\"Is_Churn\", \"Is_Churn(t)\")"
   ]
  },
  {
   "cell_type": "markdown",
   "id": "indoor-smell",
   "metadata": {},
   "source": [
    "Adding user's Total Age and user's Available Log time as features:"
   ]
  },
  {
   "cell_type": "code",
   "execution_count": null,
   "id": "reverse-instrument",
   "metadata": {},
   "outputs": [],
   "source": [
    "#function for converting days to seconds\n",
    "from pyspark.sql.functions import datediff\n",
    "days = lambda x: x * 86400\n",
    "\n",
    "# Given we want to predict 7 days in advance of the Churn event, therefore the defining the users logs data available window\n",
    "windowval_available = (Window.partitionBy(\"userId\").orderBy(col(\"ts\")/1000).rangeBetween(Window.unboundedPreceding, -days(7)))\n",
    "\n",
    "max_date = max(\"date\").over(windowval_available)\n",
    "min_date = min(\"date\").over(windowval_available)\n",
    "reg_date = min(\"reg_date\").over(windowval_available)\n",
    "\n",
    "# Addding User age in days as feature\n",
    "data_relevant = data_relevant.withColumn(\"age_days(t_7)\",(datediff(max_date,reg_date))+1)\n",
    "\n",
    "# Addding available log time in days as feature                              \n",
    "data_relevant = data_relevant.withColumn(\"available_log_days(t_7)\",(datediff(max_date,min_date))+1)"
   ]
  },
  {
   "cell_type": "markdown",
   "id": "available-starter",
   "metadata": {},
   "source": [
    "Adding Average per day features"
   ]
  },
  {
   "cell_type": "code",
   "execution_count": null,
   "id": "welcome-surge",
   "metadata": {},
   "outputs": [],
   "source": [
    "# Add average number of songs played per day until the time the user was last active on app(before 7 day from current time)\n",
    "data_relevant = data_relevant.withColumn(\"avg_num_songs_per_day(t_7)\", round((count(\"song\").over(windowval_available))/col(\"available_log_days(t_7)\"),4))\n",
    "\n",
    "# Add Average Length of songs played(music time) per day until the time the user was last active  on app(before 7 day from current time)\n",
    "data_relevant = data_relevant.withColumn(\"avg_length_secs_per_day(t_7)\", round((sum(\"length\").over(windowval_available))/col(\"available_log_days(t_7)\"),4))\n",
    "\n",
    "# Add Number of sessions per day until the time the user was last active  on app(before 7 day from current time)\n",
    "data_relevant = data_relevant.withColumn(\"avg_number_sessions_per_day(t_7)\", round(F.size(F.collect_set(\"sessionID\").over(windowval_available))/col(\"available_log_days(t_7)\"),4))"
   ]
  },
  {
   "cell_type": "markdown",
   "id": "latin-transparency",
   "metadata": {},
   "source": [
    "Adding Negative Features"
   ]
  },
  {
   "cell_type": "code",
   "execution_count": 12,
   "id": "mysterious-rotation",
   "metadata": {},
   "outputs": [
    {
     "data": {
      "application/vnd.jupyter.widget-view+json": {
       "model_id": "fcd1640734dc41998d2112d72be89aec",
       "version_major": 2,
       "version_minor": 0
      },
      "text/plain": [
       "VBox()"
      ]
     },
     "metadata": {},
     "output_type": "display_data"
    },
    {
     "data": {
      "application/vnd.jupyter.widget-view+json": {
       "model_id": "",
       "version_major": 2,
       "version_minor": 0
      },
      "text/plain": [
       "FloatProgress(value=0.0, bar_style='info', description='Progress:', layout=Layout(height='25px', width='50%'),…"
      ]
     },
     "metadata": {},
     "output_type": "display_data"
    }
   ],
   "source": [
    "# Adding fraction submit downgrade activity during available logdata as feature\n",
    "func_submit_downgrade = udf(lambda page : int(page == 'Submit Downgrade'), IntegerType())\n",
    "data_relevant = data_relevant.withColumn(\"fraction_submit_downgrade(t_7)\",round((sum(func_submit_downgrade(col(\"page\"))).over(windowval_available))/(count(col(\"page\")).over(windowval_available)),4 ))\n",
    "\n",
    "# Adding fraction error downgrade activity during available logdata as feature\n",
    "func_error = udf(lambda page : int(page == 'Error'), IntegerType())\n",
    "data_relevant = data_relevant.withColumn(\"fraction_error(t_7)\",round((sum(func_error(col(\"page\"))).over(windowval_available))/(count(col(\"page\")).over(windowval_available)),4 ) )\n",
    "\n",
    "# Adding fraction help downgrade activity during available logdata as feature\n",
    "func_help = udf(lambda page : int(page == 'Help'), IntegerType())\n",
    "data_relevant = data_relevant.withColumn(\"fraction_help(t_7)\",round((sum(func_help(col(\"page\"))).over(windowval_available))/(count(col(\"page\")).over(windowval_available)),4 ) )\n",
    "\n",
    "# Adding fraction Roll Advert activity during available logdata as feature\n",
    "func_Roll_Advert = udf(lambda page : int(page == 'Roll Advert'), IntegerType())\n",
    "data_relevant = data_relevant.withColumn(\"fraction_Roll_Advert(t_7)\",round((sum(func_Roll_Advert(col(\"page\"))).over(windowval_available))/(count(col(\"page\")).over(windowval_available)),4 ) )\n",
    "\n",
    "# Adding fraction Save Settings activity during available logdata as feature\n",
    "func_Save_Settings = udf(lambda page : int(page == 'Save Settings'), IntegerType())\n",
    "data_relevant = data_relevant.withColumn(\"fraction_Save_Settings(t_7)\",round((sum(func_Save_Settings(col(\"page\"))).over(windowval_available))/(count(col(\"page\")).over(windowval_available)),4 ) )\n",
    "\n",
    "# Adding fraction Thumbs Down activity during available logdata as feature\n",
    "func_Thumbs_Down = udf(lambda page : int(page == 'Thumbs Down'), IntegerType())\n",
    "data_relevant = data_relevant.withColumn(\"fraction_Thumbs_Down(t_7)\",round((sum(func_Thumbs_Down(col(\"page\"))).over(windowval_available))/(count(col(\"page\")).over(windowval_available)),4 ) )"
   ]
  },
  {
   "cell_type": "markdown",
   "id": "still-offer",
   "metadata": {},
   "source": [
    "Addding Positive features"
   ]
  },
  {
   "cell_type": "code",
   "execution_count": null,
   "id": "changed-argument",
   "metadata": {},
   "outputs": [],
   "source": [
    "# Adding fraction Submit Upgrade activity during available logdata as feature\n",
    "func_Submit_Upgrade = udf(lambda page : int(page == 'Submit Upgrade'), IntegerType())\n",
    "data_relevant = data_relevant.withColumn(\"fraction_Submit_Upgrade(t_7)\",round((sum(func_Submit_Upgrade(col(\"page\"))).over(windowval_available))/(count(col(\"page\")).over(windowval_available)),4 ) )\n",
    "\n",
    "# Adding fraction Add Friend activity during available logdata as feature\n",
    "func_Add_Friend = udf(lambda page : int(page == 'Add Friend'), IntegerType())\n",
    "data_relevant = data_relevant.withColumn(\"fraction_Add_Friend(t_7)\",round((sum(func_Add_Friend(col(\"page\"))).over(windowval_available))/(count(col(\"page\")).over(windowval_available)),4 ) )\n",
    "\n",
    "# Adding fraction Add to Playlist activity during available logdata as feature\n",
    "func_Add_to_Playlist= udf(lambda page : int(page == 'Add to Playlist'), IntegerType())\n",
    "data_relevant = data_relevant.withColumn(\"fraction_Add_to_Playlist(t_7)\",round((sum(func_Add_to_Playlist(col(\"page\"))).over(windowval_available))/(count(col(\"page\")).over(windowval_available)),4 ) )\n",
    "\n",
    "# Adding fraction Add to Playlist activity during available logdata as feature\n",
    "func_Thumbs_Up= udf(lambda page : int(page == 'Thumbs Up'), IntegerType())\n",
    "data_relevant = data_relevant.withColumn(\"fraction_Thumbs_Up(t_7)\",round((sum(func_Thumbs_Up(col(\"page\"))).over(windowval_available))/(count(col(\"page\")).over(windowval_available)),4 ) )"
   ]
  },
  {
   "cell_type": "markdown",
   "id": "opened-concept",
   "metadata": {},
   "source": [
    "Adding Is_paid and Is_Male binary features"
   ]
  },
  {
   "cell_type": "code",
   "execution_count": null,
   "id": "active-resistance",
   "metadata": {},
   "outputs": [],
   "source": [
    "# Add Is_paid as a feature\n",
    "func_paid = udf(lambda level : int(level == 'paid'), IntegerType())\n",
    "data_relevant = data_relevant.withColumn(\"Is_paid\",func_paid(col(\"level\")))\n",
    "\n",
    "# Add Is_Male as a feature\n",
    "func_male = udf(lambda Gender : int(Gender == 'M'), IntegerType())\n",
    "data_relevant = data_relevant.withColumn(\"Is_Male\",func_male(col(\"Gender\")))"
   ]
  },
  {
   "cell_type": "markdown",
   "id": "horizontal-darkness",
   "metadata": {},
   "source": [
    "Filtering data for each user containing only latest time data so that for each user we have only one row."
   ]
  },
  {
   "cell_type": "code",
   "execution_count": 15,
   "id": "straight-pride",
   "metadata": {},
   "outputs": [
    {
     "data": {
      "application/vnd.jupyter.widget-view+json": {
       "model_id": "e4ab93b2ffe743d59493ff5e52f49ab3",
       "version_major": 2,
       "version_minor": 0
      },
      "text/plain": [
       "VBox()"
      ]
     },
     "metadata": {},
     "output_type": "display_data"
    },
    {
     "data": {
      "application/vnd.jupyter.widget-view+json": {
       "model_id": "",
       "version_major": 2,
       "version_minor": 0
      },
      "text/plain": [
       "FloatProgress(value=0.0, bar_style='info', description='Progress:', layout=Layout(height='25px', width='50%'),…"
      ]
     },
     "metadata": {},
     "output_type": "display_data"
    }
   ],
   "source": [
    "# Ranking data on time so that for every customer only latest time datapoints can be used\n",
    "data_relevant = data_relevant.withColumn(\"dense_rank\",F.dense_rank().over(Window.partitionBy(\"userId\").orderBy(col(\"ts\").desc())))\n",
    "\n",
    "# Filtering data at the latest time for every user\n",
    "data_relevant = data_relevant.where(\"dense_rank ==1\")"
   ]
  },
  {
   "cell_type": "markdown",
   "id": "homeless-target",
   "metadata": {},
   "source": [
    "Removing Users with age less than 7 days"
   ]
  },
  {
   "cell_type": "code",
   "execution_count": null,
   "id": "essential-veteran",
   "metadata": {},
   "outputs": [],
   "source": [
    "# Checking Null values in data\n",
    "data_relevant.select([count(when(col(c).isNull(), c)).alias(c) for c in data_relevant.columns]).show()"
   ]
  },
  {
   "cell_type": "code",
   "execution_count": null,
   "id": "entitled-interpretation",
   "metadata": {},
   "outputs": [],
   "source": [
    "# Distribution of Churn vs Non Churn users among users life less than 7 days\n",
    "data_relevant.where(data_relevant['age_days(t_7)'].isNull()).groupBy(\"Is_Churn(t)\").agg(count(\"userId\")).show();"
   ]
  },
  {
   "cell_type": "code",
   "execution_count": null,
   "id": "improved-testament",
   "metadata": {},
   "outputs": [],
   "source": [
    "# Removing users with age less than 7 days\n",
    "data_relevant = data_relevant.filter(data_relevant['age_days(t_7)'].isNotNull())"
   ]
  },
  {
   "cell_type": "code",
   "execution_count": 48,
   "id": "copyrighted-textbook",
   "metadata": {},
   "outputs": [
    {
     "data": {
      "application/vnd.jupyter.widget-view+json": {
       "model_id": "4eff4eb5e08d4ecba51a0b1cfbbefaa3",
       "version_major": 2,
       "version_minor": 0
      },
      "text/plain": [
       "VBox()"
      ]
     },
     "metadata": {},
     "output_type": "display_data"
    },
    {
     "data": {
      "application/vnd.jupyter.widget-view+json": {
       "model_id": "",
       "version_major": 2,
       "version_minor": 0
      },
      "text/plain": [
       "FloatProgress(value=0.0, bar_style='info', description='Progress:', layout=Layout(height='25px', width='50%'),…"
      ]
     },
     "metadata": {},
     "output_type": "display_data"
    },
    {
     "name": "stdout",
     "output_type": "stream",
     "text": [
      "+------+---+--------+----+------------+------------+--------+---------+----+-----+------+-----+------+-----------+-------------+-----------------------+--------------------------+----------------------------+--------------------------------+------------------------------+-------------------+------------------+-------------------------+---------------------------+-------------------------+----------------------------+------------------------+-----------------------------+-----------------------+-------+-------+----------+\n",
      "|userId| ts|datetime|date|registration|reg_datetime|reg_date|sessionId|page| song|length|level|Gender|Is_Churn(t)|age_days(t_7)|available_log_days(t_7)|avg_num_songs_per_day(t_7)|avg_length_secs_per_day(t_7)|avg_number_sessions_per_day(t_7)|fraction_submit_downgrade(t_7)|fraction_error(t_7)|fraction_help(t_7)|fraction_Roll_Advert(t_7)|fraction_Save_Settings(t_7)|fraction_Thumbs_Down(t_7)|fraction_Submit_Upgrade(t_7)|fraction_Add_Friend(t_7)|fraction_Add_to_Playlist(t_7)|fraction_Thumbs_Up(t_7)|Is_paid|Is_Male|dense_rank|\n",
      "+------+---+--------+----+------------+------------+--------+---------+----+-----+------+-----+------+-----------+-------------+-----------------------+--------------------------+----------------------------+--------------------------------+------------------------------+-------------------+------------------+-------------------------+---------------------------+-------------------------+----------------------------+------------------------+-----------------------------+-----------------------+-------+-------+----------+\n",
      "|     0|  0|       0|   0|           0|           0|       0|        0|   0|15761| 15761|    0|     0|          0|            0|                      0|                         0|                          45|                               0|                             0|                  0|                 0|                        0|                          0|                        0|                           0|                       0|                            0|                      0|      0|      0|         0|\n",
      "+------+---+--------+----+------------+------------+--------+---------+----+-----+------+-----+------+-----------+-------------+-----------------------+--------------------------+----------------------------+--------------------------------+------------------------------+-------------------+------------------+-------------------------+---------------------------+-------------------------+----------------------------+------------------------+-----------------------------+-----------------------+-------+-------+----------+"
     ]
    }
   ],
   "source": [
    "# Confirming Null values in data\n",
    "data_relevant.select([count(when(col(c).isNull(), c)).alias(c) for c in data_relevant.columns]).show()"
   ]
  },
  {
   "cell_type": "code",
   "execution_count": null,
   "id": "operating-blues",
   "metadata": {},
   "outputs": [],
   "source": [
    "# Prepare final featured data\n",
    "featured_data = data_relevant.drop(\"userId\",\"ts\",\"datetime\",\"date\",\"registration\",\"reg_datetime\",\"reg_date\",\\\n",
    "                                  \"sessionId\",\"page\",\"song\",\"length\",\"level\",\"Gender\",\"Is_SubmitDowngrade\",\"available_log_days(t_7)\",\"dense_rank\")"
   ]
  },
  {
   "cell_type": "code",
   "execution_count": 18,
   "id": "running-tiger",
   "metadata": {},
   "outputs": [
    {
     "data": {
      "application/vnd.jupyter.widget-view+json": {
       "model_id": "1114670da16d4dd48beec4efd6d807e2",
       "version_major": 2,
       "version_minor": 0
      },
      "text/plain": [
       "VBox()"
      ]
     },
     "metadata": {},
     "output_type": "display_data"
    },
    {
     "data": {
      "application/vnd.jupyter.widget-view+json": {
       "model_id": "",
       "version_major": 2,
       "version_minor": 0
      },
      "text/plain": [
       "FloatProgress(value=0.0, bar_style='info', description='Progress:', layout=Layout(height='25px', width='50%'),…"
      ]
     },
     "metadata": {},
     "output_type": "display_data"
    },
    {
     "name": "stdout",
     "output_type": "stream",
     "text": [
      "Shape of dataset :  (20504, 17)"
     ]
    }
   ],
   "source": [
    "# Shape of dataset\n",
    "print(\"Shape of dataset : \",(featured_data.count(), len(featured_data.columns)))"
   ]
  },
  {
   "cell_type": "code",
   "execution_count": null,
   "id": "terminal-indianapolis",
   "metadata": {},
   "outputs": [],
   "source": [
    "# Based on the features exploration with small dataset in another notebook,\n",
    "# we find out that Avg_num_songs_per_day(t_7) & Avg_num_secs_per_day(t_7) are almost completely positively correlated\n",
    "\n",
    "# Remove Avg_num_secs_per_day(t_7) variable\n",
    "featured_data = featured_data.drop(\"avg_length_secs_per_day(t_7)\")"
   ]
  },
  {
   "cell_type": "code",
   "execution_count": 20,
   "id": "bacterial-absorption",
   "metadata": {},
   "outputs": [
    {
     "data": {
      "application/vnd.jupyter.widget-view+json": {
       "model_id": "9ef97ff630f541c99fe7221c3fcc300e",
       "version_major": 2,
       "version_minor": 0
      },
      "text/plain": [
       "VBox()"
      ]
     },
     "metadata": {},
     "output_type": "display_data"
    },
    {
     "data": {
      "application/vnd.jupyter.widget-view+json": {
       "model_id": "",
       "version_major": 2,
       "version_minor": 0
      },
      "text/plain": [
       "FloatProgress(value=0.0, bar_style='info', description='Progress:', layout=Layout(height='25px', width='50%'),…"
      ]
     },
     "metadata": {},
     "output_type": "display_data"
    },
    {
     "name": "stdout",
     "output_type": "stream",
     "text": [
      "+-----------+-------------+--------------------------+--------------------------------+------------------------------+-------------------+------------------+-------------------------+---------------------------+-------------------------+----------------------------+------------------------+-----------------------------+-----------------------+-------+-------+\n",
      "|Is_Churn(t)|age_days(t_7)|avg_num_songs_per_day(t_7)|avg_number_sessions_per_day(t_7)|fraction_submit_downgrade(t_7)|fraction_error(t_7)|fraction_help(t_7)|fraction_Roll_Advert(t_7)|fraction_Save_Settings(t_7)|fraction_Thumbs_Down(t_7)|fraction_Submit_Upgrade(t_7)|fraction_Add_Friend(t_7)|fraction_Add_to_Playlist(t_7)|fraction_Thumbs_Up(t_7)|Is_paid|Is_Male|\n",
      "+-----------+-------------+--------------------------+--------------------------------+------------------------------+-------------------+------------------+-------------------------+---------------------------+-------------------------+----------------------------+------------------------+-----------------------------+-----------------------+-------+-------+\n",
      "|          1|           71|                   24.5405|                          0.5135|                        9.0E-4|             0.0017|            0.0069|                   0.0566|                     9.0E-4|                    0.024|                      9.0E-4|                   0.012|                       0.0189|                 0.0386|      0|      1|\n",
      "|          0|           50|                   34.5116|                          0.3721|                           0.0|             6.0E-4|            0.0052|                      0.0|                     0.0017|                   0.0069|                         0.0|                  0.0139|                       0.0242|                 0.0445|      1|      0|\n",
      "|          0|           38|                    16.875|                            0.25|                           0.0|                0.0|             0.006|                    0.012|                      0.006|                    0.024|                         0.0|                  0.0299|                        0.012|                 0.0359|      1|      0|\n",
      "|          0|          125|                   27.2558|                           0.186|                           0.0|             7.0E-4|            0.0043|                      0.0|                     0.0014|                   0.0086|                      7.0E-4|                  0.0129|                       0.0272|                 0.0394|      1|      0|\n",
      "|          0|          109|                       3.0|                          0.1538|                           0.0|                0.0|            0.0196|                   0.0882|                        0.0|                      0.0|                         0.0|                  0.0098|                       0.0294|                 0.0196|      1|      1|\n",
      "|          0|           89|                   63.3654|                          0.6923|                           0.0|             2.0E-4|            0.0042|                   0.0164|                      0.001|                   0.0062|                      2.0E-4|                  0.0157|                       0.0307|                 0.0424|      1|      1|\n",
      "|          0|          113|                   34.9375|                            0.25|                           0.0|                0.0|            0.0061|                   0.0076|                        0.0|                   0.0091|                         0.0|                  0.0151|                       0.0242|                 0.0439|      1|      1|\n",
      "|          0|          119|                    8.8367|                          0.1837|                        0.0018|             0.0018|            0.0072|                   0.0505|                        0.0|                   0.0108|                      0.0018|                  0.0126|                       0.0199|                 0.0469|      0|      0|\n",
      "|          1|           57|                      36.0|                          0.4688|                           0.0|                0.0|            0.0051|                   0.0014|                     0.0022|                   0.0072|                      7.0E-4|                  0.0202|                       0.0137|                 0.0411|      1|      0|\n",
      "|          1|           22|                       7.0|                             1.0|                           0.0|                0.0|               0.0|                      0.2|                        0.0|                      0.0|                         0.0|                     0.0|                          0.0|                    0.0|      0|      1|\n",
      "|          0|          142|                   25.4528|                          0.3396|                        6.0E-4|             6.0E-4|            0.0025|                   0.0025|                     6.0E-4|                   0.0062|                      6.0E-4|                  0.0119|                       0.0231|                 0.0425|      1|      1|\n",
      "|          0|          102|                     13.74|                            0.18|                           0.0|             0.0024|            0.0085|                      0.0|                     0.0024|                   0.0085|                         0.0|                  0.0194|                       0.0267|                 0.0424|      1|      1|\n",
      "|          0|           87|                   15.1702|                           0.234|                           0.0|                0.0|            0.0057|                   0.0136|                        0.0|                   0.0102|                      0.0011|                  0.0216|                       0.0125|                 0.0443|      1|      0|\n",
      "|          0|           51|                   11.6667|                          0.3077|                        0.0017|             0.0017|            0.0034|                   0.0187|                        0.0|                   0.0068|                      0.0017|                  0.0136|                       0.0187|                 0.0697|      1|      0|\n",
      "|          0|          109|                    7.3469|                          0.1633|                           0.0|             0.0021|            0.0064|                   0.0661|                        0.0|                   0.0064|                         0.0|                  0.0277|                       0.0384|                 0.0341|      0|      1|\n",
      "|          0|          127|                   18.0851|                          0.2979|                           0.0|             0.0019|            0.0067|                    0.027|                      0.001|                   0.0096|                       0.001|                  0.0125|                       0.0231|                 0.0356|      1|      0|\n",
      "|          1|           45|                      18.8|                             0.7|                           0.0|                0.0|            0.0114|                   0.1288|                        0.0|                   0.0152|                         0.0|                  0.0076|                       0.0076|                 0.0341|      0|      1|\n",
      "|          0|           86|                   39.9057|                          0.3585|                           0.0|              0.002|            0.0059|                   0.0024|                     8.0E-4|                   0.0087|                         0.0|                  0.0099|                       0.0265|                  0.051|      1|      0|\n",
      "|          0|          170|                   10.9574|                          0.1702|                        0.0016|             0.0016|            0.0064|                    0.024|                     0.0016|                   0.0096|                         0.0|                  0.0096|                       0.0304|                 0.0353|      0|      1|\n",
      "|          0|           64|                    29.551|                          0.3878|                           0.0|             0.0012|            0.0053|                      0.0|                        0.0|                   0.0094|                         0.0|                   0.017|                       0.0263|                 0.0427|      1|      1|\n",
      "+-----------+-------------+--------------------------+--------------------------------+------------------------------+-------------------+------------------+-------------------------+---------------------------+-------------------------+----------------------------+------------------------+-----------------------------+-----------------------+-------+-------+\n",
      "only showing top 20 rows"
     ]
    }
   ],
   "source": [
    "featured_data.show()"
   ]
  },
  {
   "cell_type": "code",
   "execution_count": 27,
   "id": "simple-welcome",
   "metadata": {},
   "outputs": [
    {
     "data": {
      "application/vnd.jupyter.widget-view+json": {
       "model_id": "2dc3cc5513094276a6483ed153f61c77",
       "version_major": 2,
       "version_minor": 0
      },
      "text/plain": [
       "VBox()"
      ]
     },
     "metadata": {},
     "output_type": "display_data"
    },
    {
     "data": {
      "application/vnd.jupyter.widget-view+json": {
       "model_id": "",
       "version_major": 2,
       "version_minor": 0
      },
      "text/plain": [
       "FloatProgress(value=0.0, bar_style='info', description='Progress:', layout=Layout(height='25px', width='50%'),…"
      ]
     },
     "metadata": {},
     "output_type": "display_data"
    }
   ],
   "source": [
    "# Save the featured data in S3 Storage\n",
    "featured_data.write.json('s3://aws-emr-resources-134705539818-us-east-2/tranformed_featured_data.json')"
   ]
  },
  {
   "cell_type": "code",
   "execution_count": 28,
   "id": "appreciated-chinese",
   "metadata": {},
   "outputs": [
    {
     "data": {
      "application/vnd.jupyter.widget-view+json": {
       "model_id": "d21bdb7118e14276ad8d36711c200d37",
       "version_major": 2,
       "version_minor": 0
      },
      "text/plain": [
       "VBox()"
      ]
     },
     "metadata": {},
     "output_type": "display_data"
    },
    {
     "data": {
      "application/vnd.jupyter.widget-view+json": {
       "model_id": "",
       "version_major": 2,
       "version_minor": 0
      },
      "text/plain": [
       "FloatProgress(value=0.0, bar_style='info', description='Progress:', layout=Layout(height='25px', width='50%'),…"
      ]
     },
     "metadata": {},
     "output_type": "display_data"
    },
    {
     "name": "stdout",
     "output_type": "stream",
     "text": [
      "+-----------+-------+-------+-------------+--------------------------+--------------------------------+------------------------+-----------------------------+-------------------------+---------------------------+----------------------------+-------------------------+-----------------------+-------------------+------------------+------------------------------+\n",
      "|Is_Churn(t)|Is_Male|Is_paid|age_days(t_7)|avg_num_songs_per_day(t_7)|avg_number_sessions_per_day(t_7)|fraction_Add_Friend(t_7)|fraction_Add_to_Playlist(t_7)|fraction_Roll_Advert(t_7)|fraction_Save_Settings(t_7)|fraction_Submit_Upgrade(t_7)|fraction_Thumbs_Down(t_7)|fraction_Thumbs_Up(t_7)|fraction_error(t_7)|fraction_help(t_7)|fraction_submit_downgrade(t_7)|\n",
      "+-----------+-------+-------+-------------+--------------------------+--------------------------------+------------------------+-----------------------------+-------------------------+---------------------------+----------------------------+-------------------------+-----------------------+-------------------+------------------+------------------------------+\n",
      "|          1|      0|      1|          155|                   48.3333|                             1.0|                   0.037|                       0.0053|                      0.0|                     0.0053|                         0.0|                   0.0159|                 0.0529|                0.0|            0.0106|                           0.0|\n",
      "|          0|      1|      1|           70|                   12.4286|                          0.1429|                  0.0134|                       0.0268|                   0.0313|                        0.0|                      0.0045|                   0.0089|                 0.0313|             0.0045|            0.0179|                           0.0|\n",
      "|          1|      1|      0|          137|                    6.1622|                          0.2703|                     0.0|                       0.0097|                   0.1234|                     0.0032|                         0.0|                    0.013|                  0.039|                0.0|            0.0032|                           0.0|\n",
      "|          1|      1|      1|           78|                   52.1463|                          0.9756|                  0.0127|                       0.0223|                     0.02|                     8.0E-4|                      0.0012|                   0.0073|                 0.0373|             0.0019|            0.0042|                        8.0E-4|\n",
      "|          0|      1|      0|           67|                   14.5333|                             0.2|                  0.0162|                       0.0162|                    0.005|                     0.0012|                      0.0012|                   0.0249|                 0.0424|                0.0|            0.0025|                        0.0012|\n",
      "|          0|      1|      0|           87|                      13.0|                             1.0|                     0.0|                          0.0|                   0.0667|                        0.0|                         0.0|                      0.0|                    0.0|                0.0|               0.0|                           0.0|\n",
      "|          1|      1|      0|           53|                   11.0833|                          0.1667|                     0.0|                       0.0113|                   0.1186|                        0.0|                         0.0|                   0.0169|                 0.0452|                0.0|               0.0|                           0.0|\n",
      "|          1|      0|      1|           50|                   30.3889|                             0.5|                  0.0031|                       0.0296|                   0.0031|                        0.0|                      0.0016|                   0.0078|                 0.0374|             0.0016|            0.0016|                           0.0|\n",
      "|          0|      0|      1|           84|                   17.7647|                          0.3333|                   0.012|                       0.0257|                   0.0386|                     0.0026|                      9.0E-4|                   0.0249|                 0.0403|                0.0|            0.0077|                           0.0|\n",
      "|          0|      1|      0|           62|                     11.04|                             0.4|                  0.0128|                       0.0256|                   0.0554|                     0.0014|                         0.0|                   0.0043|                 0.0284|                0.0|            0.0099|                        0.0014|\n",
      "|          0|      1|      1|          116|                       8.5|                             0.1|                  0.0233|                       0.0163|                   0.0396|                        0.0|                      0.0023|                    0.007|                 0.0443|                0.0|            0.0047|                           0.0|\n",
      "|          0|      0|      1|          147|                    8.8649|                          0.1351|                  0.0149|                       0.0248|                   0.0099|                     0.0025|                      0.0025|                   0.0099|                 0.0396|                0.0|            0.0025|                           0.0|\n",
      "|          0|      0|      0|           83|                     3.475|                           0.075|                  0.0111|                       0.0167|                   0.0833|                        0.0|                         0.0|                      0.0|                 0.0333|                0.0|            0.0111|                           0.0|\n",
      "|          0|      1|      0|           48|                    2.0625|                           0.125|                  0.1224|                       0.0408|                   0.0612|                        0.0|                         0.0|                      0.0|                 0.0204|                0.0|               0.0|                           0.0|\n",
      "|          1|      1|      0|           18|                    53.875|                          0.5625|                  0.0201|                       0.0268|                   0.1096|                     8.0E-4|                         0.0|                   0.0134|                 0.0427|             8.0E-4|            0.0033|                           0.0|\n",
      "|          0|      0|      0|          113|                    4.8837|                          0.1395|                  0.0338|                       0.0135|                   0.0574|                        0.0|                         0.0|                   0.0034|                 0.0473|                0.0|            0.0135|                           0.0|\n",
      "|          0|      0|      1|           39|                   20.6923|                          0.1154|                  0.0097|                       0.0145|                   0.0016|                        0.0|                      0.0032|                   0.0032|                 0.0403|                0.0|            0.0016|                        0.0016|\n",
      "|          0|      0|      0|           28|                      18.0|                             1.0|                  0.0741|                          0.0|                    0.037|                        0.0|                         0.0|                      0.0|                    0.0|                0.0|               0.0|                           0.0|\n",
      "|          0|      1|      1|          114|                   36.2037|                          0.4815|                  0.0107|                       0.0252|                   0.0058|                     8.0E-4|                      4.0E-4|                    0.007|                 0.0705|                0.0|            0.0041|                           0.0|\n",
      "|          0|      1|      0|           65|                      24.0|                          0.2857|                  0.0172|                       0.0208|                   0.0093|                     0.0014|                      7.0E-4|                   0.0107|                 0.0394|                0.0|            0.0043|                           0.0|\n",
      "+-----------+-------+-------+-------------+--------------------------+--------------------------------+------------------------+-----------------------------+-------------------------+---------------------------+----------------------------+-------------------------+-----------------------+-------------------+------------------+------------------------------+\n",
      "only showing top 20 rows"
     ]
    }
   ],
   "source": [
    "# Load featured data from S3\n",
    "path = \"s3://aws-emr-resources-134705539818-us-east-2/tranformed_featured_data.json\"\n",
    "featured_data = spark.read.json(path)\n",
    "featured_data.show()"
   ]
  },
  {
   "cell_type": "markdown",
   "id": "sitting-beads",
   "metadata": {},
   "source": [
    "**4. Modeling and Evaluation**"
   ]
  },
  {
   "cell_type": "code",
   "execution_count": 29,
   "id": "confidential-stable",
   "metadata": {},
   "outputs": [
    {
     "data": {
      "application/vnd.jupyter.widget-view+json": {
       "model_id": "44b651933473466080b1349856c7fb3f",
       "version_major": 2,
       "version_minor": 0
      },
      "text/plain": [
       "VBox()"
      ]
     },
     "metadata": {},
     "output_type": "display_data"
    },
    {
     "data": {
      "application/vnd.jupyter.widget-view+json": {
       "model_id": "",
       "version_major": 2,
       "version_minor": 0
      },
      "text/plain": [
       "FloatProgress(value=0.0, bar_style='info', description='Progress:', layout=Layout(height='25px', width='50%'),…"
      ]
     },
     "metadata": {},
     "output_type": "display_data"
    }
   ],
   "source": [
    "# date prep for modelling\n",
    "from pyspark.sql.types import IntegerType\n",
    "featured_data = featured_data.withColumnRenamed(\"Is_Churn(t)\",\"label\")\n",
    "featured_data = featured_data.withColumn(\"label\", featured_data[\"label\"].cast(IntegerType()))"
   ]
  },
  {
   "cell_type": "markdown",
   "id": "pregnant-winning",
   "metadata": {},
   "source": [
    "**Train-Test split of dataset**"
   ]
  },
  {
   "cell_type": "code",
   "execution_count": 30,
   "id": "occasional-argument",
   "metadata": {},
   "outputs": [
    {
     "data": {
      "application/vnd.jupyter.widget-view+json": {
       "model_id": "2129fa23b6d449b99e326d4d4add95cb",
       "version_major": 2,
       "version_minor": 0
      },
      "text/plain": [
       "VBox()"
      ]
     },
     "metadata": {},
     "output_type": "display_data"
    },
    {
     "data": {
      "application/vnd.jupyter.widget-view+json": {
       "model_id": "",
       "version_major": 2,
       "version_minor": 0
      },
      "text/plain": [
       "FloatProgress(value=0.0, bar_style='info', description='Progress:', layout=Layout(height='25px', width='50%'),…"
      ]
     },
     "metadata": {},
     "output_type": "display_data"
    },
    {
     "name": "stdout",
     "output_type": "stream",
     "text": [
      "train_size : 16437 , churn_labels_fraction_in_train : 0.19133661860436818\n",
      "test_size : 4062 , churn_labels_fraction_in_test : 0.1930083702609552"
     ]
    }
   ],
   "source": [
    "#Split train/test data\n",
    "train, test = featured_data.randomSplit([0.8, 0.2], seed=42)\n",
    "\n",
    "train_size = train.count()\n",
    "churn_labels_in_train = train.filter(col('label') == 1).count() / train_size\n",
    "print(\"train_size :\",train_size,\", churn_labels_fraction_in_train :\",churn_labels_in_train)\n",
    "\n",
    "test_size = test.count()\n",
    "churn_labels_in_train =  test.filter(col('label') == 1).count() / test_size\n",
    "print(\"test_size :\",test_size,\", churn_labels_fraction_in_test :\",churn_labels_in_train)"
   ]
  },
  {
   "cell_type": "code",
   "execution_count": 31,
   "id": "terminal-neighborhood",
   "metadata": {},
   "outputs": [
    {
     "data": {
      "application/vnd.jupyter.widget-view+json": {
       "model_id": "7659019f5b8b4fa3809da8155843b8c9",
       "version_major": 2,
       "version_minor": 0
      },
      "text/plain": [
       "VBox()"
      ]
     },
     "metadata": {},
     "output_type": "display_data"
    },
    {
     "data": {
      "application/vnd.jupyter.widget-view+json": {
       "model_id": "",
       "version_major": 2,
       "version_minor": 0
      },
      "text/plain": [
       "FloatProgress(value=0.0, bar_style='info', description='Progress:', layout=Layout(height='25px', width='50%'),…"
      ]
     },
     "metadata": {},
     "output_type": "display_data"
    }
   ],
   "source": [
    "# Numberic features list\n",
    "numeric_columns = ['age_days(t_7)', 'avg_num_songs_per_day(t_7)', 'avg_number_sessions_per_day(t_7)', 'fraction_submit_downgrade(t_7)',\\\n",
    "                   'fraction_error(t_7)', 'fraction_help(t_7)', 'fraction_Roll_Advert(t_7)', 'fraction_Save_Settings(t_7)', 'fraction_Thumbs_Down(t_7)',\\\n",
    "                   'fraction_Submit_Upgrade(t_7)', 'fraction_Add_Friend(t_7)', 'fraction_Add_to_Playlist(t_7)', 'fraction_Thumbs_Up(t_7)']\n",
    "\n",
    "\n",
    "# Combining multiple numerical features using VectorAssembler\n",
    "numeric_assembler = VectorAssembler(inputCols = numeric_columns, outputCol = \"numericvectorized\")\n",
    "\n",
    "# Standardizing numerical features\n",
    "scaler = StandardScaler(inputCol = \"numericvectorized\", outputCol = \"numericscaled\", withStd = True, withMean = True)\n",
    "\n",
    "# Adding the two binary features\n",
    "binary_columns = ['Is_paid', 'Is_Male']\n",
    "total_assembler = VectorAssembler(inputCols = binary_columns + [\"numericscaled\"], outputCol = \"features\")"
   ]
  },
  {
   "cell_type": "code",
   "execution_count": 32,
   "id": "scientific-phase",
   "metadata": {},
   "outputs": [
    {
     "data": {
      "application/vnd.jupyter.widget-view+json": {
       "model_id": "14856546d1c541ad839b58b00bd2566b",
       "version_major": 2,
       "version_minor": 0
      },
      "text/plain": [
       "VBox()"
      ]
     },
     "metadata": {},
     "output_type": "display_data"
    },
    {
     "data": {
      "application/vnd.jupyter.widget-view+json": {
       "model_id": "",
       "version_major": 2,
       "version_minor": 0
      },
      "text/plain": [
       "FloatProgress(value=0.0, bar_style='info', description='Progress:', layout=Layout(height='25px', width='50%'),…"
      ]
     },
     "metadata": {},
     "output_type": "display_data"
    }
   ],
   "source": [
    "#defining fit model for the pipeline\n",
    "def fit_model(model, paramGrid = None):\n",
    "  \"\"\" build the pipeline, fit the model on train with best crossvalidated model\\\n",
    "  and predict on test data\n",
    "  \n",
    "  Args:\n",
    "    model: model estimator\n",
    "    \n",
    "  Returns:\n",
    "    fitmodel: best fitted model on train data\n",
    "    results: prediction results on test data\n",
    "  \"\"\"\n",
    "  # define pipeline\n",
    "  pipeline = Pipeline(stages=[numeric_assembler, scaler, total_assembler, model])\n",
    "\n",
    "  # cross validate on parameter and fit the best model on train data\n",
    "  if paramGrid != None:\n",
    "      crossval = CrossValidator(estimator=pipeline,\n",
    "                        estimatorParamMaps=paramGrid,\n",
    "                        evaluator=MulticlassClassificationEvaluator(metricName='f1'),\n",
    "                        numFolds=3)\n",
    "      fitmodel = crossval.fit(train)\n",
    "  else:\n",
    "      fitmodel = pipeline.fit(train)\n",
    "  \n",
    "  #predict on test data\n",
    "  results = fitmodel.transform(test)\n",
    "\n",
    "  return fitmodel, results"
   ]
  },
  {
   "cell_type": "code",
   "execution_count": 33,
   "id": "bearing-passage",
   "metadata": {},
   "outputs": [
    {
     "data": {
      "application/vnd.jupyter.widget-view+json": {
       "model_id": "632d2d9a05b94604abc2d8e22e8769f6",
       "version_major": 2,
       "version_minor": 0
      },
      "text/plain": [
       "VBox()"
      ]
     },
     "metadata": {},
     "output_type": "display_data"
    },
    {
     "data": {
      "application/vnd.jupyter.widget-view+json": {
       "model_id": "",
       "version_major": 2,
       "version_minor": 0
      },
      "text/plain": [
       "FloatProgress(value=0.0, bar_style='info', description='Progress:', layout=Layout(height='25px', width='50%'),…"
      ]
     },
     "metadata": {},
     "output_type": "display_data"
    }
   ],
   "source": [
    "# defining function for calculating evaluation metrics\n",
    "def evaluation(results):\n",
    "  \"\"\" calculate accuracy,precision, recall, f1 metrics\n",
    "  \n",
    "  Args:\n",
    "    results: model prediction results on test data\n",
    "    \n",
    "  Returns:\n",
    "    (accuracy,precision, recall, f1) : evaluation metrics\n",
    "  \"\"\"\n",
    "\n",
    "  dataset = results.select(['prediction', 'label'])\n",
    "  \n",
    "  tp = dataset.where((dataset.label == 1) & (dataset.prediction == 1)).count()\n",
    "  fp = dataset.where((dataset.label == 0) & (dataset.prediction == 1)).count()\n",
    "  tn = dataset.where((dataset.label == 0) & (dataset.prediction == 0)).count()\n",
    "  fn = dataset.where((dataset.label == 1) & (dataset.prediction == 0)).count()\n",
    "  total = dataset.count()\n",
    "\n",
    "  # Add epsilon to prevent division by zero\n",
    "  accuracy = (tp+tn)/(total)\n",
    "  precision = tp / (tp + fp + 0.00001)\n",
    "  recall = tp / (tp + fn + 0.00001)\n",
    "  f1 = 2 * precision * recall / (precision + recall + 0.00001)\n",
    "\n",
    "  return(accuracy,precision, recall, f1)"
   ]
  },
  {
   "cell_type": "markdown",
   "id": "subject-uniform",
   "metadata": {},
   "source": [
    "**Logistic Regression with Class weights for imbalance treatment**"
   ]
  },
  {
   "cell_type": "code",
   "execution_count": 34,
   "id": "interesting-inventory",
   "metadata": {},
   "outputs": [
    {
     "data": {
      "application/vnd.jupyter.widget-view+json": {
       "model_id": "6cff0c01cbe344159cd9b5ef028dab4a",
       "version_major": 2,
       "version_minor": 0
      },
      "text/plain": [
       "VBox()"
      ]
     },
     "metadata": {},
     "output_type": "display_data"
    },
    {
     "data": {
      "application/vnd.jupyter.widget-view+json": {
       "model_id": "",
       "version_major": 2,
       "version_minor": 0
      },
      "text/plain": [
       "FloatProgress(value=0.0, bar_style='info', description='Progress:', layout=Layout(height='25px', width='50%'),…"
      ]
     },
     "metadata": {},
     "output_type": "display_data"
    }
   ],
   "source": [
    "# Get weighted column to deal with imbalance of data catergories\n",
    "balancingRatio = train.filter(col('label') == 1).count() / train.count()\n",
    "calculateWeights = udf(lambda x: 1 * balancingRatio if x == 0 else (1 * (1.0 - balancingRatio)), DoubleType())\n",
    "train = train.withColumn(\"classWeightCol\", calculateWeights('label'))"
   ]
  },
  {
   "cell_type": "code",
   "execution_count": 49,
   "id": "faced-commons",
   "metadata": {},
   "outputs": [
    {
     "data": {
      "application/vnd.jupyter.widget-view+json": {
       "model_id": "e371130354fd44fe88f37ccb28142f6b",
       "version_major": 2,
       "version_minor": 0
      },
      "text/plain": [
       "VBox()"
      ]
     },
     "metadata": {},
     "output_type": "display_data"
    },
    {
     "data": {
      "application/vnd.jupyter.widget-view+json": {
       "model_id": "",
       "version_major": 2,
       "version_minor": 0
      },
      "text/plain": [
       "FloatProgress(value=0.0, bar_style='info', description='Progress:', layout=Layout(height='25px', width='50%'),…"
      ]
     },
     "metadata": {},
     "output_type": "display_data"
    },
    {
     "name": "stdout",
     "output_type": "stream",
     "text": [
      "{Param(parent='LogisticRegression_bb18f1c271d5', name='regParam', doc='regularization parameter (>= 0).'): 0.5, Param(parent='LogisticRegression_bb18f1c271d5', name='threshold', doc='Threshold in binary classification prediction, in range [0, 1]. If threshold and thresholds are both set, they must match.e.g. if threshold is p, then thresholds must be equal to [1-p, p].'): 0.5}"
     ]
    }
   ],
   "source": [
    "# Logistic Regression with weights of classes considered\n",
    "\n",
    "# define model\n",
    "lr_w = LogisticRegression(maxIter=10,weightCol = 'classWeightCol')\n",
    "\n",
    "# define parametes grid\n",
    "lr_w_paramGrid = ParamGridBuilder().addGrid(lr_w.regParam,[0.0, 0.5]).addGrid(lr_w.threshold,[0.5]).build()\n",
    "\n",
    "# fit model pipeline\n",
    "lr_w_model, lr_w_results = fit_model(lr_w, paramGrid = lr_w_paramGrid)\n",
    "\n",
    "# getting best model based on grid search\n",
    "lr_w_best_model_index = lr_w_model.avgMetrics.index(np.max(lr_w_model.avgMetrics))\n",
    "lr_w_best_model_param = lr_w_paramGrid[lr_w_best_model_index]\n",
    "print(lr_w_best_model_param)"
   ]
  },
  {
   "cell_type": "code",
   "execution_count": 50,
   "id": "thick-bumper",
   "metadata": {},
   "outputs": [
    {
     "data": {
      "application/vnd.jupyter.widget-view+json": {
       "model_id": "1f992a47850144dbb988153e4f50ad47",
       "version_major": 2,
       "version_minor": 0
      },
      "text/plain": [
       "VBox()"
      ]
     },
     "metadata": {},
     "output_type": "display_data"
    },
    {
     "data": {
      "application/vnd.jupyter.widget-view+json": {
       "model_id": "",
       "version_major": 2,
       "version_minor": 0
      },
      "text/plain": [
       "FloatProgress(value=0.0, bar_style='info', description='Progress:', layout=Layout(height='25px', width='50%'),…"
      ]
     },
     "metadata": {},
     "output_type": "display_data"
    },
    {
     "name": "stdout",
     "output_type": "stream",
     "text": [
      "LogisticRegression with class weights - accuracy,precision, recall, f1 : (0.758739537173806, 0.41819699150085987, 0.6390306040939974, 0.5055451626438296)"
     ]
    }
   ],
   "source": [
    "# Getting best Evaluation metrics\n",
    "print(\"LogisticRegression with class weights - accuracy,precision, recall, f1 :\", evaluation(lr_w_results))"
   ]
  },
  {
   "cell_type": "code",
   "execution_count": 51,
   "id": "satisfied-health",
   "metadata": {},
   "outputs": [
    {
     "data": {
      "application/vnd.jupyter.widget-view+json": {
       "model_id": "cc08d5a598f246bdbe8cd76e7aca320a",
       "version_major": 2,
       "version_minor": 0
      },
      "text/plain": [
       "VBox()"
      ]
     },
     "metadata": {},
     "output_type": "display_data"
    },
    {
     "data": {
      "application/vnd.jupyter.widget-view+json": {
       "model_id": "",
       "version_major": 2,
       "version_minor": 0
      },
      "text/plain": [
       "FloatProgress(value=0.0, bar_style='info', description='Progress:', layout=Layout(height='25px', width='50%'),…"
      ]
     },
     "metadata": {},
     "output_type": "display_data"
    },
    {
     "name": "stdout",
     "output_type": "stream",
     "text": [
      "Logistic regression features importances\n",
      "['Is_paid', 'Is_Male', 'age_days(t_7)', 'avg_num_songs_per_day(t_7)', 'avg_number_sessions_per_day(t_7)', 'fraction_submit_downgrade(t_7)', 'fraction_error(t_7)', 'fraction_help(t_7)', 'fraction_Roll_Advert(t_7)', 'fraction_Save_Settings(t_7)', 'fraction_Thumbs_Down(t_7)', 'fraction_Submit_Upgrade(t_7)', 'fraction_Add_Friend(t_7)', 'fraction_Add_to_Playlist(t_7)', 'fraction_Thumbs_Up(t_7)']\n",
      "[0.19542025400328558,0.014413681403436355,-0.11464798577273039,0.12357987427792498,0.1771921088566431,0.0278654605538792,0.0030159609324810193,0.00998071493442744,0.061205246256120796,-0.008600705195865586,0.05771519841430953,0.0219393377255115,-0.009651806008248713,-0.00023186746059301565,-0.08180904441356712]"
     ]
    }
   ],
   "source": [
    "# List of features\n",
    "list_feats =  binary_columns + numeric_columns\n",
    "\n",
    "# model features coefficients\n",
    "lr_w_corr = lr_w_model.bestModel.stages[-1].coefficients\n",
    "\n",
    "# logistic regression coefficients\n",
    "print('Logistic regression features importances')\n",
    "print(list_feats)\n",
    "print(lr_w_corr)"
   ]
  },
  {
   "cell_type": "markdown",
   "id": "decimal-killer",
   "metadata": {},
   "source": [
    "**Random Forest Modeling**"
   ]
  },
  {
   "cell_type": "code",
   "execution_count": 52,
   "id": "planned-trader",
   "metadata": {},
   "outputs": [
    {
     "data": {
      "application/vnd.jupyter.widget-view+json": {
       "model_id": "81ee791d0c964e7d93589e5bfe52ba5e",
       "version_major": 2,
       "version_minor": 0
      },
      "text/plain": [
       "VBox()"
      ]
     },
     "metadata": {},
     "output_type": "display_data"
    },
    {
     "data": {
      "application/vnd.jupyter.widget-view+json": {
       "model_id": "",
       "version_major": 2,
       "version_minor": 0
      },
      "text/plain": [
       "FloatProgress(value=0.0, bar_style='info', description='Progress:', layout=Layout(height='25px', width='50%'),…"
      ]
     },
     "metadata": {},
     "output_type": "display_data"
    },
    {
     "name": "stdout",
     "output_type": "stream",
     "text": [
      "{Param(parent='RandomForestClassifier_ef229d5b8961', name='maxDepth', doc='Maximum depth of the tree. (>= 0) E.g., depth 0 means 1 leaf node; depth 1 means 1 internal node + 2 leaf nodes.'): 15, Param(parent='RandomForestClassifier_ef229d5b8961', name='numTrees', doc='Number of trees to train (>= 1).'): 200, Param(parent='RandomForestClassifier_ef229d5b8961', name='featureSubsetStrategy', doc=\"The number of features to consider for splits at each tree node. Supported options: 'auto' (choose automatically for task: If numTrees == 1, set to 'all'. If numTrees > 1 (forest), set to 'sqrt' for classification and to 'onethird' for regression), 'all' (use all features), 'onethird' (use 1/3 of the features), 'sqrt' (use sqrt(number of features)), 'log2' (use log2(number of features)), 'n' (when n is in the range (0, 1.0], use n * number of features. When n is in the range (1, number of features), use n features). default = 'auto'\"): 'sqrt'}"
     ]
    }
   ],
   "source": [
    "# Random Forest with no weights of classes considered\n",
    "\n",
    "# define model\n",
    "#rf = RandomForestClassifier(weightCol = 'classWeightCol')\n",
    "rf = RandomForestClassifier()\n",
    "\n",
    "# define parametes grid\n",
    "rf_paramGrid = ParamGridBuilder().addGrid(rf.maxDepth,[10,15]).addGrid(rf.numTrees,[100,200]).addGrid(rf.featureSubsetStrategy,[\"sqrt\"]).build()\n",
    "\n",
    "# fit model pipeline\n",
    "rfmodel, rfresults = fit_model(rf, paramGrid = rf_paramGrid)\n",
    "\n",
    "# getting best model based on grid search\n",
    "best_model_index = rfmodel.avgMetrics.index(np.max(rfmodel.avgMetrics))\n",
    "best_model_param = rf_paramGrid[best_model_index]\n",
    "print(best_model_param)"
   ]
  },
  {
   "cell_type": "code",
   "execution_count": 53,
   "id": "portuguese-direction",
   "metadata": {},
   "outputs": [
    {
     "data": {
      "application/vnd.jupyter.widget-view+json": {
       "model_id": "8c6f7264b4e642828821fc16a7bdc5ca",
       "version_major": 2,
       "version_minor": 0
      },
      "text/plain": [
       "VBox()"
      ]
     },
     "metadata": {},
     "output_type": "display_data"
    },
    {
     "data": {
      "application/vnd.jupyter.widget-view+json": {
       "model_id": "",
       "version_major": 2,
       "version_minor": 0
      },
      "text/plain": [
       "FloatProgress(value=0.0, bar_style='info', description='Progress:', layout=Layout(height='25px', width='50%'),…"
      ]
     },
     "metadata": {},
     "output_type": "display_data"
    },
    {
     "name": "stdout",
     "output_type": "stream",
     "text": [
      "Random Forest - accuracy,precision, recall, f1 : (0.8584441161989168, 0.7470448995970473, 0.403061219348709, 0.5236077004395431)"
     ]
    }
   ],
   "source": [
    "# Getting best Evaluation metrics\n",
    "print(\"Random Forest - accuracy,precision, recall, f1 :\", evaluation(rfresults))"
   ]
  },
  {
   "cell_type": "code",
   "execution_count": 54,
   "id": "senior-channel",
   "metadata": {},
   "outputs": [
    {
     "data": {
      "application/vnd.jupyter.widget-view+json": {
       "model_id": "0d8c6dd7bba74ac9ba2fd06417593a2d",
       "version_major": 2,
       "version_minor": 0
      },
      "text/plain": [
       "VBox()"
      ]
     },
     "metadata": {},
     "output_type": "display_data"
    },
    {
     "data": {
      "application/vnd.jupyter.widget-view+json": {
       "model_id": "",
       "version_major": 2,
       "version_minor": 0
      },
      "text/plain": [
       "FloatProgress(value=0.0, bar_style='info', description='Progress:', layout=Layout(height='25px', width='50%'),…"
      ]
     },
     "metadata": {},
     "output_type": "display_data"
    },
    {
     "name": "stdout",
     "output_type": "stream",
     "text": [
      "Random Forest Features Importances\n",
      "['Is_paid', 'Is_Male', 'age_days(t_7)', 'avg_num_songs_per_day(t_7)', 'avg_number_sessions_per_day(t_7)', 'fraction_submit_downgrade(t_7)', 'fraction_error(t_7)', 'fraction_help(t_7)', 'fraction_Roll_Advert(t_7)', 'fraction_Save_Settings(t_7)', 'fraction_Thumbs_Down(t_7)', 'fraction_Submit_Upgrade(t_7)', 'fraction_Add_Friend(t_7)', 'fraction_Add_to_Playlist(t_7)', 'fraction_Thumbs_Up(t_7)']\n",
      "[0.02499819 0.01450239 0.14396566 0.09779445 0.16161395 0.02620859\n",
      " 0.03473029 0.05323143 0.07560466 0.03707052 0.07407254 0.05348291\n",
      " 0.06045111 0.06557656 0.07669676]"
     ]
    }
   ],
   "source": [
    "# Extract feature importance from rfmodel\n",
    "featImportances = np.array(rfmodel.bestModel.stages[-1].featureImportances)\n",
    "\n",
    "# List of features\n",
    "list_feats =  binary_columns + numeric_columns\n",
    "\n",
    "# Random Forest coefficients\n",
    "print('Random Forest Features Importances')\n",
    "print(list_feats)\n",
    "print(featImportances)"
   ]
  },
  {
   "cell_type": "markdown",
   "id": "laden-party",
   "metadata": {},
   "source": [
    "**Gradient Boosted Trees**"
   ]
  },
  {
   "cell_type": "code",
   "execution_count": 55,
   "id": "close-cedar",
   "metadata": {},
   "outputs": [
    {
     "data": {
      "application/vnd.jupyter.widget-view+json": {
       "model_id": "756ad82b399a4411a1a7e15aac9354a5",
       "version_major": 2,
       "version_minor": 0
      },
      "text/plain": [
       "VBox()"
      ]
     },
     "metadata": {},
     "output_type": "display_data"
    },
    {
     "data": {
      "application/vnd.jupyter.widget-view+json": {
       "model_id": "",
       "version_major": 2,
       "version_minor": 0
      },
      "text/plain": [
       "FloatProgress(value=0.0, bar_style='info', description='Progress:', layout=Layout(height='25px', width='50%'),…"
      ]
     },
     "metadata": {},
     "output_type": "display_data"
    },
    {
     "name": "stderr",
     "output_type": "stream",
     "text": [
      "Exception in thread cell_monitor-55:\n",
      "Traceback (most recent call last):\n",
      "  File \"/opt/conda/lib/python3.7/threading.py\", line 926, in _bootstrap_inner\n",
      "    self.run()\n",
      "  File \"/opt/conda/lib/python3.7/threading.py\", line 870, in run\n",
      "    self._target(*self._args, **self._kwargs)\n",
      "  File \"/opt/conda/lib/python3.7/site-packages/awseditorssparkmonitoringwidget-1.0-py3.7.egg/awseditorssparkmonitoringwidget/cellmonitor.py\", line 178, in cell_monitor\n",
      "    job_binned_stages[job_id][stage_id] = all_stages[stage_id]\n",
      "KeyError: 3598\n",
      "\n"
     ]
    },
    {
     "name": "stdout",
     "output_type": "stream",
     "text": [
      "{Param(parent='GBTClassifier_2b8b3de6803e', name='maxDepth', doc='Maximum depth of the tree. (>= 0) E.g., depth 0 means 1 leaf node; depth 1 means 1 internal node + 2 leaf nodes.'): 3, Param(parent='GBTClassifier_2b8b3de6803e', name='maxIter', doc='max number of iterations (>= 0).'): 200}"
     ]
    }
   ],
   "source": [
    "# GBT with no weights of classes considered\n",
    "\n",
    "# define model\n",
    "gb = GBTClassifier()\n",
    "\n",
    "# define parametes grid\n",
    "gb_paramGrid = ParamGridBuilder().addGrid(gb.maxDepth,[2,3,5]).addGrid(gb.maxIter,[50,100,200]).build()\n",
    "\n",
    "# fit model pipeline\n",
    "gbmodel, gbresults = fit_model(gb, paramGrid = gb_paramGrid)\n",
    "\n",
    "# getting best model based on grid search\n",
    "best_model_index = gbmodel.avgMetrics.index(np.max(gbmodel.avgMetrics))\n",
    "best_model_param = gb_paramGrid[best_model_index]\n",
    "print(best_model_param)"
   ]
  },
  {
   "cell_type": "code",
   "execution_count": 58,
   "id": "alien-spending",
   "metadata": {},
   "outputs": [
    {
     "data": {
      "application/vnd.jupyter.widget-view+json": {
       "model_id": "9bf6387e030a4fb78d3e8407edbc1a05",
       "version_major": 2,
       "version_minor": 0
      },
      "text/plain": [
       "VBox()"
      ]
     },
     "metadata": {},
     "output_type": "display_data"
    },
    {
     "data": {
      "application/vnd.jupyter.widget-view+json": {
       "model_id": "",
       "version_major": 2,
       "version_minor": 0
      },
      "text/plain": [
       "FloatProgress(value=0.0, bar_style='info', description='Progress:', layout=Layout(height='25px', width='50%'),…"
      ]
     },
     "metadata": {},
     "output_type": "display_data"
    },
    {
     "name": "stdout",
     "output_type": "stream",
     "text": [
      " Gradient Boosting Trees - accuracy,precision, recall, f1 : (0.862383062530773, 0.7429805455079797, 0.4387755046074553, 0.5517194604413324)"
     ]
    }
   ],
   "source": [
    "# Getting best Evaluation metrics\n",
    "print(\" Gradient Boosting Trees - accuracy,precision, recall, f1 :\", evaluation(gbresults))"
   ]
  },
  {
   "cell_type": "code",
   "execution_count": 60,
   "id": "fitted-string",
   "metadata": {},
   "outputs": [
    {
     "data": {
      "application/vnd.jupyter.widget-view+json": {
       "model_id": "3f8d81ba71ce409d94834bd684e21b80",
       "version_major": 2,
       "version_minor": 0
      },
      "text/plain": [
       "VBox()"
      ]
     },
     "metadata": {},
     "output_type": "display_data"
    },
    {
     "data": {
      "application/vnd.jupyter.widget-view+json": {
       "model_id": "",
       "version_major": 2,
       "version_minor": 0
      },
      "text/plain": [
       "FloatProgress(value=0.0, bar_style='info', description='Progress:', layout=Layout(height='25px', width='50%'),…"
      ]
     },
     "metadata": {},
     "output_type": "display_data"
    },
    {
     "name": "stdout",
     "output_type": "stream",
     "text": [
      "['Is_paid', 'Is_Male', 'age_days(t_7)', 'avg_num_songs_per_day(t_7)', 'avg_number_sessions_per_day(t_7)', 'fraction_submit_downgrade(t_7)', 'fraction_error(t_7)', 'fraction_help(t_7)', 'fraction_Roll_Advert(t_7)', 'fraction_Save_Settings(t_7)', 'fraction_Thumbs_Down(t_7)', 'fraction_Submit_Upgrade(t_7)', 'fraction_Add_Friend(t_7)', 'fraction_Add_to_Playlist(t_7)', 'fraction_Thumbs_Up(t_7)']\n",
      "[0.03588369 0.00129943 0.1026863  0.16019295 0.12165622 0.05929854\n",
      " 0.04874183 0.03393979 0.07815162 0.02831667 0.06520274 0.08824231\n",
      " 0.04440163 0.04937447 0.08261181]"
     ]
    }
   ],
   "source": [
    "# Extract feature importance from gbmodel\n",
    "featImportances = np.array(gbmodel.bestModel.stages[-1].featureImportances)\n",
    "\n",
    "# List of features\n",
    "list_feats =  binary_columns + numeric_columns\n",
    "\n",
    "# plot logistic regression coefficients\n",
    "print(list_feats)\n",
    "print(featImportances)"
   ]
  },
  {
   "cell_type": "markdown",
   "id": "treated-staff",
   "metadata": {},
   "source": [
    "**5.Results Summary**"
   ]
  },
  {
   "cell_type": "code",
   "execution_count": 65,
   "id": "outer-ontario",
   "metadata": {},
   "outputs": [
    {
     "data": {
      "application/vnd.jupyter.widget-view+json": {
       "model_id": "719e1d1dd2674529855a1077912290f9",
       "version_major": 2,
       "version_minor": 0
      },
      "text/plain": [
       "VBox()"
      ]
     },
     "metadata": {},
     "output_type": "display_data"
    },
    {
     "data": {
      "application/vnd.jupyter.widget-view+json": {
       "model_id": "",
       "version_major": 2,
       "version_minor": 0
      },
      "text/plain": [
       "FloatProgress(value=0.0, bar_style='info', description='Progress:', layout=Layout(height='25px', width='50%'),…"
      ]
     },
     "metadata": {},
     "output_type": "display_data"
    },
    {
     "name": "stdout",
     "output_type": "stream",
     "text": [
      "Logistic Regression with class weights - Params: regParam :0.5,threshold :0.5,                          Metrics: F1: 0.50 Accuracy: 0.75\n",
      "Random Forest                          - Params: maxDepth:15, numTrees:200, featureSubsetStrategy:sqrt  Metrics: F1: 0.52 Accuracy: 0.85\n",
      "Gradient Boosted Tree                  - Params: maxDepth :3, maxIter:200                               Metrics: F1: 0.55 Accuracy: 0.86"
     ]
    }
   ],
   "source": [
    "# Make the results summary for the models considered.\n",
    "print(\"Logistic Regression with class weights - Params:\",\"regParam :0.5,threshold :0.5,                        \",\" Metrics:\",\"F1:\",\"0.50\",\"Accuracy:\",\"0.75\")\n",
    "print(\"Random Forest                          - Params:\",\"maxDepth:15, numTrees:200, featureSubsetStrategy:sqrt\",\" Metrics:\",\"F1:\",\"0.52\",\"Accuracy:\",\"0.85\")\n",
    "print(\"Gradient Boosted Tree                  - Params:\",\"maxDepth :3, maxIter:200                             \",\" Metrics:\",\"F1:\",\"0.55\",\"Accuracy:\",\"0.86\")"
   ]
  }
 ],
 "metadata": {
  "kernelspec": {
   "display_name": "PySpark",
   "language": "",
   "name": "pysparkkernel"
  },
  "language_info": {
   "codemirror_mode": {
    "name": "python",
    "version": 2
   },
   "mimetype": "text/x-python",
   "name": "pyspark",
   "pygments_lexer": "python2"
  }
 },
 "nbformat": 4,
 "nbformat_minor": 5
}
